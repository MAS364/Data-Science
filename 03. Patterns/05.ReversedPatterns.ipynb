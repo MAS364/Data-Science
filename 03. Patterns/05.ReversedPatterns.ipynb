{
 "cells": [
  {
   "cell_type": "raw",
   "id": "5532738d-48b6-47f1-a7f0-872b229bdc07",
   "metadata": {},
   "source": [
    "   *\n",
    "  **\n",
    " ***\n",
    "****\n",
    "\n",
    "1] No of Rows = N\n",
    "2] No of columns in each row -\n",
    "    1] print space -> n - i\n",
    "    2] print stars -> i\n",
    "3] What to print"
   ]
  },
  {
   "cell_type": "code",
   "execution_count": 1,
   "id": "02aa3c98-b59e-46f5-a5d0-1b7407d754a7",
   "metadata": {},
   "outputs": [
    {
     "name": "stdin",
     "output_type": "stream",
     "text": [
      " 4\n"
     ]
    },
    {
     "name": "stdout",
     "output_type": "stream",
     "text": [
      "      * \n",
      "    * * \n",
      "  * * * \n",
      "* * * * \n"
     ]
    }
   ],
   "source": [
    "n = int(input())\n",
    "i=1\n",
    "while i<=n:\n",
    "    spaces = 1\n",
    "    while spaces <= n - i:\n",
    "        print(' ', end=\" \")\n",
    "        spaces  = spaces + 1\n",
    "    star = 1\n",
    "    while star <= i:\n",
    "        print(\"*\", end = \" \")\n",
    "        star = star + 1\n",
    "    print()\n",
    "    i=i+1"
   ]
  },
  {
   "cell_type": "code",
   "execution_count": 4,
   "id": "629132c4-2783-4f77-85d5-4feda04d74ff",
   "metadata": {},
   "outputs": [
    {
     "name": "stdin",
     "output_type": "stream",
     "text": [
      " 4\n"
     ]
    },
    {
     "name": "stdout",
     "output_type": "stream",
     "text": [
      "      1 \n",
      "    2 3 \n",
      "  3 4 5 \n",
      "4 5 6 7 \n"
     ]
    }
   ],
   "source": [
    "\n",
    "n = int(input())\n",
    "i=1\n",
    "k=1\n",
    "while i<=n:\n",
    "    space=1\n",
    "    while space<= n-i:\n",
    "        print(' ', end=\" \")\n",
    "        space = space + 1\n",
    "    j = 1\n",
    "    while j<=i:\n",
    "        print(k,end=\" \")\n",
    "        j = j+1\n",
    "        k=k+1\n",
    "    print()\n",
    "    i=i+1"
   ]
  },
  {
   "cell_type": "code",
   "execution_count": null,
   "id": "e935b0f2-c230-40ca-a218-968729595bd3",
   "metadata": {},
   "outputs": [],
   "source": []
  }
 ],
 "metadata": {
  "kernelspec": {
   "display_name": "Python 3 (ipykernel)",
   "language": "python",
   "name": "python3"
  },
  "language_info": {
   "codemirror_mode": {
    "name": "ipython",
    "version": 3
   },
   "file_extension": ".py",
   "mimetype": "text/x-python",
   "name": "python",
   "nbconvert_exporter": "python",
   "pygments_lexer": "ipython3",
   "version": "3.11.7"
  }
 },
 "nbformat": 4,
 "nbformat_minor": 5
}
