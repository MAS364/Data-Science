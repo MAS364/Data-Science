{
 "cells": [
  {
   "cell_type": "markdown",
   "id": "4611df8b-d54e-4539-85d1-5fbfad6d5e08",
   "metadata": {},
   "source": [
    "Boolean indexing allows you to filter and manipulate arrays based on conditions.\n",
    "\n",
    "Conditions are often created using comparison operators (e.g., >, <, ==) and can be combined using logical operators (&, |).\n",
    "\n",
    "Comparison operator compares two values / variable and returns a boolean result\n",
    "Boolean result --> True / False\n",
    "\n",
    "This technique is especially useful in data manipulation and analysis tasks, \n",
    "\n",
    "making it easy to handle and process data based on specific criteria."
   ]
  },
  {
   "cell_type": "markdown",
   "id": "f6019a26-a9aa-458e-b58b-3d97ecabb91c",
   "metadata": {},
   "source": [
    "In boolean indexing, we pass boolean array as an index to another array\n",
    "\n",
    "Based on boolean values, we decide what to select / de-select\n",
    "\n",
    "True -> Select\n",
    "False -> DeSelect"
   ]
  },
  {
   "cell_type": "code",
   "execution_count": null,
   "id": "1708b638-4d46-418b-8564-b15ef0998002",
   "metadata": {},
   "outputs": [],
   "source": [
    "import numpy as np\n",
    "\n",
    "# Create a sample array\n",
    "arr = np.array([1, 2, 3, 4, 5, 6, 7, 8, 9, 10])\n",
    "\n",
    "# Create a boolean condition\n",
    "condition = arr > 5\n",
    "print(\"Condition:\", condition)\n",
    "\n",
    "# Use the boolean condition to index the array\n",
    "filtered_arr = arr[condition]\n",
    "print(\"Filtered array:\", filtered_arr)\n",
    "\n",
    "# Combine multiple conditions using logical operators\n",
    "condition = (arr > 5) & (arr < 9)\n",
    "filtered_arr = arr[condition]\n",
    "print(\"Filtered array with combined conditions:\", filtered_arr)\n",
    "\n",
    "# Modify elements in the array based on a condition\n",
    "arr[arr > 5] = 0\n",
    "print(\"Modified array:\", arr)\n"
   ]
  },
  {
   "cell_type": "markdown",
   "id": "4f668964-467f-46b3-8105-b95a6104e586",
   "metadata": {},
   "source": [
    "https://www.youtube.com/watch?v=8j20u6zKQtM&list=PLHAaSB5JKZODttK3kxOmVMvXi-h9O7yzX&index=24"
   ]
  },
  {
   "cell_type": "markdown",
   "id": "f61861c0-5492-4fdb-9c88-670f895d2635",
   "metadata": {},
   "source": [
    "https://www.pythontutorial.net/python-numpy/boolean-indexing/"
   ]
  }
 ],
 "metadata": {
  "kernelspec": {
   "display_name": "Python 3 (ipykernel)",
   "language": "python",
   "name": "python3"
  },
  "language_info": {
   "codemirror_mode": {
    "name": "ipython",
    "version": 3
   },
   "file_extension": ".py",
   "mimetype": "text/x-python",
   "name": "python",
   "nbconvert_exporter": "python",
   "pygments_lexer": "ipython3",
   "version": "3.11.7"
  }
 },
 "nbformat": 4,
 "nbformat_minor": 5
}
