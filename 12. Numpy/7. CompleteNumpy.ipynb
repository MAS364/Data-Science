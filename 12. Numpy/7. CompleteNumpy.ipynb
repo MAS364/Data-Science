{
 "cells": [
  {
   "cell_type": "markdown",
   "id": "4de0bf05-e35b-4d91-be6c-c2f935670f4f",
   "metadata": {},
   "source": [
    "## Basics"
   ]
  },
  {
   "cell_type": "code",
   "execution_count": 1,
   "id": "66169bdf-ca3b-42f7-8e8b-8ba8c9bcc590",
   "metadata": {},
   "outputs": [
    {
     "name": "stdout",
     "output_type": "stream",
     "text": [
      "[1 2 3 4 5]\n"
     ]
    }
   ],
   "source": [
    "import numpy as np\n",
    "a = np.array([1,2,3,4,5])\n",
    "print(a)"
   ]
  },
  {
   "cell_type": "code",
   "execution_count": 3,
   "id": "eb5d9863-ae1e-43a0-8279-85ee58ac01f3",
   "metadata": {},
   "outputs": [
    {
     "name": "stdout",
     "output_type": "stream",
     "text": [
      "[[8 7 6]\n",
      " [5 4 3]]\n"
     ]
    }
   ],
   "source": [
    "b = np.array([ [8,7,6], [5,4,3] ])\n",
    "print(b)"
   ]
  },
  {
   "cell_type": "code",
   "execution_count": 15,
   "id": "4dc3e6fb-e9fd-4b18-84eb-d8908908c368",
   "metadata": {},
   "outputs": [],
   "source": [
    "# Get dimension\n",
    "\n",
    "# ndim -> To check the dimension of an array"
   ]
  },
  {
   "cell_type": "code",
   "execution_count": 14,
   "id": "6aa51721-34a7-4fde-b43d-cd6136ac5541",
   "metadata": {},
   "outputs": [
    {
     "data": {
      "text/plain": [
       "1"
      ]
     },
     "execution_count": 14,
     "metadata": {},
     "output_type": "execute_result"
    }
   ],
   "source": [
    "a.ndim"
   ]
  },
  {
   "cell_type": "code",
   "execution_count": 5,
   "id": "01986cd0-f3d1-40cc-9c7a-3a81f4ae4512",
   "metadata": {},
   "outputs": [
    {
     "data": {
      "text/plain": [
       "2"
      ]
     },
     "execution_count": 5,
     "metadata": {},
     "output_type": "execute_result"
    }
   ],
   "source": [
    "b.ndim"
   ]
  },
  {
   "cell_type": "code",
   "execution_count": 9,
   "id": "ce50bb96-a9d5-4e70-97d5-8c77e0a36b00",
   "metadata": {},
   "outputs": [],
   "source": [
    "# Get Shape\n",
    "# shape -> To check the shape of an array\n",
    "# The shape() method returns the shape of an array i.e the number of elements in each dimension.\n",
    "# The shape() method returns the shape of an array as a tuple."
   ]
  },
  {
   "cell_type": "code",
   "execution_count": 8,
   "id": "9add1b24-4724-4580-825a-a29e01b3c06b",
   "metadata": {},
   "outputs": [
    {
     "data": {
      "text/plain": [
       "(5,)"
      ]
     },
     "execution_count": 8,
     "metadata": {},
     "output_type": "execute_result"
    }
   ],
   "source": [
    "a.shape"
   ]
  },
  {
   "cell_type": "code",
   "execution_count": 7,
   "id": "d6a00ed8-46e9-41b5-8dc4-a0e6ddbebb34",
   "metadata": {},
   "outputs": [
    {
     "data": {
      "text/plain": [
       "(2, 3)"
      ]
     },
     "execution_count": 7,
     "metadata": {},
     "output_type": "execute_result"
    }
   ],
   "source": [
    "b.shape"
   ]
  },
  {
   "cell_type": "code",
   "execution_count": 10,
   "id": "319b189b-7d72-42b3-a684-374e18206e56",
   "metadata": {},
   "outputs": [
    {
     "data": {
      "text/plain": [
       "dtype('int64')"
      ]
     },
     "execution_count": 10,
     "metadata": {},
     "output_type": "execute_result"
    }
   ],
   "source": [
    "# Get type\n",
    "\n",
    "a.dtype"
   ]
  },
  {
   "cell_type": "code",
   "execution_count": null,
   "id": "54dce052-b0e8-4eaf-aa18-ffa5cba37712",
   "metadata": {},
   "outputs": [],
   "source": [
    "# Get itemsize\n",
    "#itemsize returns the size (in bytes) of each element of a NumPy array\n",
    "# itemsize will be 8, because this array consists of integers and size of integer (in bytes) is 8 bytes."
   ]
  },
  {
   "cell_type": "code",
   "execution_count": 12,
   "id": "7e0e4c7d-6dd5-4a46-b7b6-a796de8cba48",
   "metadata": {},
   "outputs": [
    {
     "data": {
      "text/plain": [
       "8"
      ]
     },
     "execution_count": 12,
     "metadata": {},
     "output_type": "execute_result"
    }
   ],
   "source": [
    "\n",
    "a.itemsize"
   ]
  },
  {
   "cell_type": "code",
   "execution_count": 13,
   "id": "7b931ba3-d7cd-4190-b3ce-f1bbbbcadff1",
   "metadata": {},
   "outputs": [
    {
     "data": {
      "text/plain": [
       "8"
      ]
     },
     "execution_count": 13,
     "metadata": {},
     "output_type": "execute_result"
    }
   ],
   "source": [
    "b.itemsize"
   ]
  },
  {
   "cell_type": "markdown",
   "id": "b6f34126-8a81-4254-b4eb-044fff07faab",
   "metadata": {},
   "source": [
    "## Accessing / Changing specific elements, rows, columns, etc"
   ]
  },
  {
   "cell_type": "code",
   "execution_count": 16,
   "id": "1cb6220e-14f3-4808-a140-7194591e6afb",
   "metadata": {},
   "outputs": [
    {
     "name": "stdout",
     "output_type": "stream",
     "text": [
      "[[ 1  2  3  4  5  6  7]\n",
      " [ 8  9 10 11 12 13 14]]\n"
     ]
    }
   ],
   "source": [
    "a = np.array([ [1,2,3,4,5,6,7], [8,9,10,11,12,13,14] ])\n",
    "print(a)"
   ]
  },
  {
   "cell_type": "code",
   "execution_count": 17,
   "id": "e7c8c78b-db99-429c-8c33-92e9af457396",
   "metadata": {},
   "outputs": [
    {
     "data": {
      "text/plain": [
       "14"
      ]
     },
     "execution_count": 17,
     "metadata": {},
     "output_type": "execute_result"
    }
   ],
   "source": [
    "# Get a specific element [row,column]\n",
    "a[1,6]"
   ]
  },
  {
   "cell_type": "code",
   "execution_count": 18,
   "id": "5b9cf816-e98d-47f9-acf3-e944d33ddc17",
   "metadata": {},
   "outputs": [
    {
     "data": {
      "text/plain": [
       "array([1, 2, 3, 4, 5, 6, 7])"
      ]
     },
     "execution_count": 18,
     "metadata": {},
     "output_type": "execute_result"
    }
   ],
   "source": [
    "# Get a specific row\n",
    "a[0, :]"
   ]
  },
  {
   "cell_type": "code",
   "execution_count": 19,
   "id": "aa38ea0a-973d-47d1-924b-c8629d7e3d9c",
   "metadata": {},
   "outputs": [
    {
     "data": {
      "text/plain": [
       "array([ 8,  9, 10, 11, 12, 13, 14])"
      ]
     },
     "execution_count": 19,
     "metadata": {},
     "output_type": "execute_result"
    }
   ],
   "source": [
    "a[1, ]"
   ]
  },
  {
   "cell_type": "code",
   "execution_count": 20,
   "id": "31b0cf1b-cf37-4784-ac3f-fdf444698e9a",
   "metadata": {},
   "outputs": [
    {
     "data": {
      "text/plain": [
       "array([ 3, 10])"
      ]
     },
     "execution_count": 20,
     "metadata": {},
     "output_type": "execute_result"
    }
   ],
   "source": [
    "# Get a specific column\n",
    "a[:,2]"
   ]
  },
  {
   "cell_type": "code",
   "execution_count": 21,
   "id": "dcea00ce-c78a-45d9-b7a8-af22eefd20ec",
   "metadata": {},
   "outputs": [],
   "source": [
    "# Some more [startindex, endindex, stepsize ]"
   ]
  },
  {
   "cell_type": "code",
   "execution_count": 22,
   "id": "cd13e421-9847-433c-a74d-9cb7255e44d4",
   "metadata": {},
   "outputs": [
    {
     "data": {
      "text/plain": [
       "array([2, 3, 4, 5])"
      ]
     },
     "execution_count": 22,
     "metadata": {},
     "output_type": "execute_result"
    }
   ],
   "source": [
    "a[0, 1:5:1]"
   ]
  },
  {
   "cell_type": "code",
   "execution_count": 24,
   "id": "9c57b7b5-269e-471b-8c75-7e8de7169935",
   "metadata": {},
   "outputs": [
    {
     "data": {
      "text/plain": [
       "array([2, 3, 4, 5])"
      ]
     },
     "execution_count": 24,
     "metadata": {},
     "output_type": "execute_result"
    }
   ],
   "source": [
    "a[0, 1:-2:1]"
   ]
  },
  {
   "cell_type": "code",
   "execution_count": 26,
   "id": "b7a94dd1-fe76-4378-b0e8-c474bc1f6a5b",
   "metadata": {},
   "outputs": [
    {
     "name": "stdout",
     "output_type": "stream",
     "text": [
      "[[ 1  2  3  4  5  6  7]\n",
      " [ 8  9 10 11 12 20 14]]\n"
     ]
    }
   ],
   "source": [
    "a[1,5] = 20\n",
    "print(a)"
   ]
  },
  {
   "cell_type": "code",
   "execution_count": 27,
   "id": "2590edb8-b521-4671-95d9-0a33df7e6e64",
   "metadata": {},
   "outputs": [],
   "source": [
    "a[:,2] = 5"
   ]
  },
  {
   "cell_type": "code",
   "execution_count": 28,
   "id": "c3de1310-b475-4068-9d75-167aec425beb",
   "metadata": {},
   "outputs": [
    {
     "name": "stdout",
     "output_type": "stream",
     "text": [
      "[[ 1  2  5  4  5  6  7]\n",
      " [ 8  9  5 11 12 20 14]]\n"
     ]
    }
   ],
   "source": [
    "print(a)"
   ]
  },
  {
   "cell_type": "code",
   "execution_count": 29,
   "id": "86ce3268-76b8-4fdf-9912-f5f75f817621",
   "metadata": {},
   "outputs": [],
   "source": [
    "a[:,2] = [1,2]"
   ]
  },
  {
   "cell_type": "code",
   "execution_count": 30,
   "id": "646ff516-f6ad-45af-898f-3c629e425512",
   "metadata": {},
   "outputs": [
    {
     "name": "stdout",
     "output_type": "stream",
     "text": [
      "[[ 1  2  1  4  5  6  7]\n",
      " [ 8  9  2 11 12 20 14]]\n"
     ]
    }
   ],
   "source": [
    "print(a)"
   ]
  },
  {
   "cell_type": "markdown",
   "id": "bfce55ec-d1aa-486c-9040-a16f7437151e",
   "metadata": {},
   "source": [
    "#### 3-D Array"
   ]
  },
  {
   "cell_type": "code",
   "execution_count": 31,
   "id": "fbfe2d88-d7a8-4ecd-bba5-deec3f53bd0a",
   "metadata": {},
   "outputs": [],
   "source": [
    "b = np.array([ [[1,2],[3,4]], [[5,6],[7,8]] ])"
   ]
  },
  {
   "cell_type": "code",
   "execution_count": 32,
   "id": "7d114ca9-8844-42a0-b000-bdc249ea0ba2",
   "metadata": {},
   "outputs": [
    {
     "name": "stdout",
     "output_type": "stream",
     "text": [
      "[[[1 2]\n",
      "  [3 4]]\n",
      "\n",
      " [[5 6]\n",
      "  [7 8]]]\n"
     ]
    }
   ],
   "source": [
    "print(b)"
   ]
  },
  {
   "cell_type": "code",
   "execution_count": 33,
   "id": "6e6ee78f-1d13-46e4-a851-537079e93538",
   "metadata": {},
   "outputs": [],
   "source": [
    "# Get specific element ( work outside in )"
   ]
  },
  {
   "cell_type": "code",
   "execution_count": 35,
   "id": "6260334c-974c-452d-921a-358693ba1f70",
   "metadata": {},
   "outputs": [
    {
     "data": {
      "text/plain": [
       "4"
      ]
     },
     "execution_count": 35,
     "metadata": {},
     "output_type": "execute_result"
    }
   ],
   "source": [
    "b[0,1,1]\n",
    "\n",
    "# 0 -> select 1st 2-D Matrix\n",
    "# 1 -> select 2nd row of 2-D Matrix\n",
    "# 1 -> select 2nd element of 2nd row\n",
    "\n",
    "# Note -> 0,1,1 are indices"
   ]
  },
  {
   "cell_type": "markdown",
   "id": "6752a994-c428-492d-a134-ccc0675fe5b0",
   "metadata": {},
   "source": [
    "## Initializing different types of Arrays"
   ]
  },
  {
   "cell_type": "code",
   "execution_count": 37,
   "id": "e59aeb7e-84e2-4bb0-9eb1-6f71bb8a573a",
   "metadata": {},
   "outputs": [
    {
     "name": "stdout",
     "output_type": "stream",
     "text": [
      "[0. 0. 0. 0. 0.]\n"
     ]
    }
   ],
   "source": [
    "# All 0's matrix\n",
    "a = np.zeros(5)\n",
    "print(a)"
   ]
  },
  {
   "cell_type": "code",
   "execution_count": 39,
   "id": "86b46e33-d004-48d3-a736-98f1216e6282",
   "metadata": {},
   "outputs": [
    {
     "name": "stdout",
     "output_type": "stream",
     "text": [
      "[[0. 0. 0.]\n",
      " [0. 0. 0.]\n",
      " [0. 0. 0.]]\n"
     ]
    }
   ],
   "source": [
    "b = np.zeros((3,3))\n",
    "print(b)"
   ]
  },
  {
   "cell_type": "code",
   "execution_count": 40,
   "id": "729b8f51-a958-4219-ac2a-1f1addeb2493",
   "metadata": {},
   "outputs": [
    {
     "name": "stdout",
     "output_type": "stream",
     "text": [
      "[[[0. 0. 0.]\n",
      "  [0. 0. 0.]\n",
      "  [0. 0. 0.]]\n",
      "\n",
      " [[0. 0. 0.]\n",
      "  [0. 0. 0.]\n",
      "  [0. 0. 0.]]]\n"
     ]
    }
   ],
   "source": [
    "c = np.zeros((2,3,3))\n",
    "print(c)"
   ]
  },
  {
   "cell_type": "code",
   "execution_count": 44,
   "id": "b52d6559-b7e7-42a4-a6d0-9a7c266c2fb5",
   "metadata": {},
   "outputs": [
    {
     "name": "stdout",
     "output_type": "stream",
     "text": [
      "[1 1 1 1 1]\n"
     ]
    }
   ],
   "source": [
    "#All 1s matrix\n",
    "a = np.ones(5, dtype=int)\n",
    "print(a)"
   ]
  },
  {
   "cell_type": "code",
   "execution_count": 47,
   "id": "53715220-b8a4-4177-886a-06dfe44b1b8d",
   "metadata": {},
   "outputs": [
    {
     "name": "stdout",
     "output_type": "stream",
     "text": [
      "[[1 1 1]\n",
      " [1 1 1]\n",
      " [1 1 1]]\n"
     ]
    }
   ],
   "source": [
    "b = np.ones((3,3), dtype=int)\n",
    "print(b)"
   ]
  },
  {
   "cell_type": "code",
   "execution_count": 50,
   "id": "48cefe05-de86-49b6-86e0-d1ec9e8efc48",
   "metadata": {},
   "outputs": [
    {
     "name": "stdout",
     "output_type": "stream",
     "text": [
      "[[[1 1 1]\n",
      "  [1 1 1]\n",
      "  [1 1 1]]\n",
      "\n",
      " [[1 1 1]\n",
      "  [1 1 1]\n",
      "  [1 1 1]]\n",
      "\n",
      " [[1 1 1]\n",
      "  [1 1 1]\n",
      "  [1 1 1]]\n",
      "\n",
      " [[1 1 1]\n",
      "  [1 1 1]\n",
      "  [1 1 1]]]\n"
     ]
    }
   ],
   "source": [
    "c = np.ones((4,3,3),dtype=int)\n",
    "print(c)"
   ]
  },
  {
   "cell_type": "code",
   "execution_count": 51,
   "id": "1b88ad12-5e01-4eec-82ac-de76ba4072f4",
   "metadata": {},
   "outputs": [
    {
     "name": "stdout",
     "output_type": "stream",
     "text": [
      "[10 10 10 10 10]\n"
     ]
    }
   ],
   "source": [
    "# Any other number\n",
    "a = np.full(5,10)\n",
    "print(a)"
   ]
  },
  {
   "cell_type": "code",
   "execution_count": 53,
   "id": "45068a29-cfd1-43f0-b654-aa86b0d33495",
   "metadata": {},
   "outputs": [
    {
     "name": "stdout",
     "output_type": "stream",
     "text": [
      "[[10 10]\n",
      " [10 10]]\n"
     ]
    }
   ],
   "source": [
    "b = np.full((2,2), 10)\n",
    "print(b)"
   ]
  },
  {
   "cell_type": "code",
   "execution_count": 55,
   "id": "012ea01f-ccb5-4a3e-9d1e-9c1172e0c269",
   "metadata": {},
   "outputs": [
    {
     "name": "stdout",
     "output_type": "stream",
     "text": [
      "[[[10 10]\n",
      "  [10 10]]\n",
      "\n",
      " [[10 10]\n",
      "  [10 10]]\n",
      "\n",
      " [[10 10]\n",
      "  [10 10]]]\n"
     ]
    }
   ],
   "source": [
    "c = np.full((3,2,2), 10)\n",
    "print(c)"
   ]
  },
  {
   "cell_type": "code",
   "execution_count": 57,
   "id": "f4f3392c-b0f7-4e16-be5d-9a76c14c7862",
   "metadata": {},
   "outputs": [
    {
     "name": "stdout",
     "output_type": "stream",
     "text": [
      "[0.32396249 0.22784802 0.44279115 0.01593372 0.98039801]\n"
     ]
    }
   ],
   "source": [
    "# Random decimal numbers\n",
    "a = np.random.rand(5)\n",
    "print(a)"
   ]
  },
  {
   "cell_type": "code",
   "execution_count": 58,
   "id": "fec99a4b-e78a-46fb-ac8a-a642d02d3d44",
   "metadata": {},
   "outputs": [
    {
     "name": "stdout",
     "output_type": "stream",
     "text": [
      "[[0.34634088 0.40313959 0.77838725]\n",
      " [0.63694893 0.48263307 0.92161209]\n",
      " [0.74380969 0.25938122 0.17691612]]\n"
     ]
    }
   ],
   "source": [
    "b = np.random.rand(3,3)\n",
    "print(b)"
   ]
  },
  {
   "cell_type": "code",
   "execution_count": 60,
   "id": "b388a308-da7e-41c6-bc7f-614f960fa4aa",
   "metadata": {},
   "outputs": [
    {
     "name": "stdout",
     "output_type": "stream",
     "text": [
      "[[[0.5397172  0.79753033 0.44308283]\n",
      "  [0.2220777  0.86722054 0.18027925]\n",
      "  [0.79418588 0.25219413 0.54586897]]\n",
      "\n",
      " [[0.27686961 0.98176437 0.29146174]\n",
      "  [0.22672408 0.17026945 0.28670199]\n",
      "  [0.3229021  0.26658725 0.56256268]]]\n"
     ]
    }
   ],
   "source": [
    "c = np.random.rand(2,3,3)\n",
    "print(c)"
   ]
  },
  {
   "cell_type": "code",
   "execution_count": 63,
   "id": "7e583f16-0583-46e0-97e9-b759f04d9af6",
   "metadata": {},
   "outputs": [
    {
     "name": "stdout",
     "output_type": "stream",
     "text": [
      "[[3 4 5]\n",
      " [6 3 0]\n",
      " [4 2 2]]\n"
     ]
    }
   ],
   "source": [
    "# Random integer numbers\n",
    "\n",
    "a = np.random.randint(7, size=(3,3))\n",
    "print(a)"
   ]
  },
  {
   "cell_type": "code",
   "execution_count": 65,
   "id": "4f7cd93e-5bd0-4044-b797-9613243bef38",
   "metadata": {},
   "outputs": [
    {
     "name": "stdout",
     "output_type": "stream",
     "text": [
      "5\n"
     ]
    }
   ],
   "source": [
    "b = np.random.randint(4,7)\n",
    "print(b)"
   ]
  },
  {
   "cell_type": "code",
   "execution_count": 66,
   "id": "230aa046-db7f-4e5f-9e45-f8b6b7a6e0a2",
   "metadata": {},
   "outputs": [
    {
     "name": "stdout",
     "output_type": "stream",
     "text": [
      "[[1. 0. 0. 0. 0.]\n",
      " [0. 1. 0. 0. 0.]\n",
      " [0. 0. 1. 0. 0.]\n",
      " [0. 0. 0. 1. 0.]\n",
      " [0. 0. 0. 0. 1.]]\n"
     ]
    }
   ],
   "source": [
    "# Identity matrix\n",
    "# Identity matrix : All the diagonal elements are 1, remaining all the elements are 0.\n",
    "# Square matrix by nature\n",
    "\n",
    "a = np.identity(5)\n",
    "print(a)"
   ]
  },
  {
   "cell_type": "code",
   "execution_count": 75,
   "id": "6f1c0b0e-205a-4f1c-bdc5-879d5a13ddd9",
   "metadata": {},
   "outputs": [
    {
     "name": "stdout",
     "output_type": "stream",
     "text": [
      "[[1 1 1 1 1]\n",
      " [1 1 1 1 1]\n",
      " [1 1 1 1 1]\n",
      " [1 1 1 1 1]\n",
      " [1 1 1 1 1]]\n",
      "[[0 0 0]\n",
      " [0 9 0]\n",
      " [0 0 0]]\n",
      "[[1 1 1 1 1]\n",
      " [1 0 0 0 1]\n",
      " [1 0 9 0 1]\n",
      " [1 0 0 0 1]\n",
      " [1 1 1 1 1]]\n"
     ]
    }
   ],
   "source": [
    "output = np.ones((5,5), dtype=int)\n",
    "print(output)\n",
    "\n",
    "z = np.zeros((3,3), dtype=int)\n",
    "z[1,1] = 9\n",
    "print(z)\n",
    "\n",
    "output[1:4,1:4] = z\n",
    "print(output)"
   ]
  },
  {
   "cell_type": "markdown",
   "id": "9eda04e8-4e14-4af2-93ba-7908a30d0695",
   "metadata": {},
   "source": [
    "## Mathematics"
   ]
  },
  {
   "cell_type": "code",
   "execution_count": 76,
   "id": "3b7faf18-1680-477f-9872-d75ae50c1a82",
   "metadata": {},
   "outputs": [
    {
     "name": "stdout",
     "output_type": "stream",
     "text": [
      "[1 2 3 4 5]\n"
     ]
    }
   ],
   "source": [
    "a = np.array([1,2,3,4,5])\n",
    "print(a)"
   ]
  },
  {
   "cell_type": "code",
   "execution_count": 77,
   "id": "4e739178-654d-44e6-be2f-4cf36efd6495",
   "metadata": {},
   "outputs": [
    {
     "data": {
      "text/plain": [
       "array([3, 4, 5, 6, 7])"
      ]
     },
     "execution_count": 77,
     "metadata": {},
     "output_type": "execute_result"
    }
   ],
   "source": [
    "a + 2"
   ]
  },
  {
   "cell_type": "code",
   "execution_count": 79,
   "id": "9c6813e5-ee3c-4958-b647-48764405d79d",
   "metadata": {},
   "outputs": [
    {
     "data": {
      "text/plain": [
       "array([-1,  0,  1,  2,  3])"
      ]
     },
     "execution_count": 79,
     "metadata": {},
     "output_type": "execute_result"
    }
   ],
   "source": [
    "a - 2"
   ]
  },
  {
   "cell_type": "code",
   "execution_count": 80,
   "id": "8aabc557-c0e0-49e4-a2de-3aedd02ec630",
   "metadata": {},
   "outputs": [
    {
     "data": {
      "text/plain": [
       "array([ 2,  4,  6,  8, 10])"
      ]
     },
     "execution_count": 80,
     "metadata": {},
     "output_type": "execute_result"
    }
   ],
   "source": [
    "a * 2"
   ]
  },
  {
   "cell_type": "code",
   "execution_count": 81,
   "id": "25151ef7-1317-45af-8484-5dce539dbfb5",
   "metadata": {},
   "outputs": [
    {
     "data": {
      "text/plain": [
       "array([0.5, 1. , 1.5, 2. , 2.5])"
      ]
     },
     "execution_count": 81,
     "metadata": {},
     "output_type": "execute_result"
    }
   ],
   "source": [
    "a / 2"
   ]
  },
  {
   "cell_type": "code",
   "execution_count": 83,
   "id": "842ba3e7-d392-407a-9c7f-029c3b1e818e",
   "metadata": {},
   "outputs": [
    {
     "data": {
      "text/plain": [
       "array([2, 2, 4, 4, 6])"
      ]
     },
     "execution_count": 83,
     "metadata": {},
     "output_type": "execute_result"
    }
   ],
   "source": [
    "b = np.array([1,0,1,0,1])\n",
    "a + b"
   ]
  },
  {
   "cell_type": "code",
   "execution_count": 84,
   "id": "5ba56fd9-1b2c-4884-8ae2-b494b44963ce",
   "metadata": {},
   "outputs": [],
   "source": [
    "# https://numpy.org/doc/stable/reference/routines.math.html"
   ]
  },
  {
   "cell_type": "markdown",
   "id": "21422300-cb01-47a9-a0e9-aa02c7358ec0",
   "metadata": {},
   "source": [
    "## Linear Algebra"
   ]
  },
  {
   "cell_type": "code",
   "execution_count": 87,
   "id": "f9cf407e-dcdb-4720-8f1c-e8e7aa6acfc8",
   "metadata": {},
   "outputs": [
    {
     "name": "stdout",
     "output_type": "stream",
     "text": [
      "[[1. 1. 1.]\n",
      " [1. 1. 1.]]\n",
      "[[2 2]\n",
      " [2 2]\n",
      " [2 2]]\n"
     ]
    },
    {
     "data": {
      "text/plain": [
       "array([[6., 6.],\n",
       "       [6., 6.]])"
      ]
     },
     "execution_count": 87,
     "metadata": {},
     "output_type": "execute_result"
    }
   ],
   "source": [
    "a = np.ones((2,3))\n",
    "print(a)\n",
    "\n",
    "b = np.full((3,2), 2)\n",
    "print(b)\n",
    "\n",
    "np.matmul(a,b)"
   ]
  },
  {
   "cell_type": "code",
   "execution_count": 88,
   "id": "87107b7a-0247-406c-b0d3-ff428be3aa66",
   "metadata": {},
   "outputs": [],
   "source": [
    "#https://numpy.org/doc/stable/reference/routines.linalg.html"
   ]
  },
  {
   "cell_type": "markdown",
   "id": "0b09c4b8-14ac-40ac-b138-5afbc4c19081",
   "metadata": {},
   "source": [
    "## Statistics"
   ]
  },
  {
   "cell_type": "code",
   "execution_count": 90,
   "id": "895d8ade-69b3-4b17-8a8c-1d2a1dc0fa41",
   "metadata": {},
   "outputs": [
    {
     "data": {
      "text/plain": [
       "array([[1, 2, 3],\n",
       "       [4, 5, 6]])"
      ]
     },
     "execution_count": 90,
     "metadata": {},
     "output_type": "execute_result"
    }
   ],
   "source": [
    "stats = np.array([[1,2,3],[4,5,6]])\n",
    "stats"
   ]
  },
  {
   "cell_type": "code",
   "execution_count": 91,
   "id": "5e67f63c-2780-4cc8-a259-a244d7db4f73",
   "metadata": {},
   "outputs": [
    {
     "data": {
      "text/plain": [
       "1"
      ]
     },
     "execution_count": 91,
     "metadata": {},
     "output_type": "execute_result"
    }
   ],
   "source": [
    "np.min(stats)"
   ]
  },
  {
   "cell_type": "code",
   "execution_count": 92,
   "id": "d4ef4b6b-a6be-49e9-96f7-7c80e5382fa6",
   "metadata": {},
   "outputs": [
    {
     "data": {
      "text/plain": [
       "array([1, 4])"
      ]
     },
     "execution_count": 92,
     "metadata": {},
     "output_type": "execute_result"
    }
   ],
   "source": [
    "np.min(stats, axis=1)"
   ]
  },
  {
   "cell_type": "code",
   "execution_count": 93,
   "id": "56f92b55-4b0f-4a3f-9bcc-cf2910e4aab2",
   "metadata": {},
   "outputs": [
    {
     "data": {
      "text/plain": [
       "6"
      ]
     },
     "execution_count": 93,
     "metadata": {},
     "output_type": "execute_result"
    }
   ],
   "source": [
    "np.max(stats)"
   ]
  },
  {
   "cell_type": "code",
   "execution_count": 94,
   "id": "01ad977f-f20a-4783-9938-13e9c815a837",
   "metadata": {},
   "outputs": [
    {
     "data": {
      "text/plain": [
       "array([3, 6])"
      ]
     },
     "execution_count": 94,
     "metadata": {},
     "output_type": "execute_result"
    }
   ],
   "source": [
    "np.max(stats, axis=1)"
   ]
  },
  {
   "cell_type": "markdown",
   "id": "d73b2795-4a07-4087-a642-dcae9de1dd6a",
   "metadata": {},
   "source": [
    "## Reorganizing Arrays"
   ]
  },
  {
   "cell_type": "code",
   "execution_count": 105,
   "id": "67e298c9-c870-422b-9b7f-e8dd42d8643d",
   "metadata": {},
   "outputs": [
    {
     "name": "stdout",
     "output_type": "stream",
     "text": [
      "[[1 2 3 4]\n",
      " [5 6 7 8]]\n",
      "[[1 2]\n",
      " [3 4]\n",
      " [5 6]\n",
      " [7 8]]\n"
     ]
    }
   ],
   "source": [
    "before = np.array([[1,2,3,4],[5,6,7,8]])\n",
    "print(before)\n",
    "\n",
    "after = before.reshape((4,2))\n",
    "print(after)"
   ]
  },
  {
   "cell_type": "code",
   "execution_count": 107,
   "id": "332c00a1-a5f6-477a-bb3c-c99812dab90f",
   "metadata": {},
   "outputs": [
    {
     "data": {
      "text/plain": [
       "array([[1, 2, 3, 4],\n",
       "       [5, 6, 7, 8]])"
      ]
     },
     "execution_count": 107,
     "metadata": {},
     "output_type": "execute_result"
    }
   ],
   "source": [
    "#Vertical Stacking vectors\n",
    "#vector -> 1-D array is called  vector\n",
    "\n",
    "v1 = np.array([1,2,3,4])\n",
    "v2 = np.array([5,6,7,8])\n",
    "\n",
    "np.vstack([v1,v2])\n"
   ]
  },
  {
   "cell_type": "code",
   "execution_count": 108,
   "id": "5db5d09a-94af-4418-868d-b0a6df5c8c11",
   "metadata": {},
   "outputs": [
    {
     "data": {
      "text/plain": [
       "array([1, 2, 3, 4, 5, 6, 7, 8])"
      ]
     },
     "execution_count": 108,
     "metadata": {},
     "output_type": "execute_result"
    }
   ],
   "source": [
    "#Horizontal Stacking vectors\n",
    "\n",
    "\n",
    "h1 = np.array([1,2,3,4])\n",
    "h2 = np.array([5,6,7,8])\n",
    "\n",
    "np.hstack([v1,v2])\n"
   ]
  },
  {
   "cell_type": "code",
   "execution_count": 110,
   "id": "4c1bcbf4-f299-4a4e-ba1b-9637b3a4c3ce",
   "metadata": {},
   "outputs": [
    {
     "data": {
      "text/plain": [
       "array([[1., 1., 1., 1., 0., 0.],\n",
       "       [1., 1., 1., 1., 0., 0.]])"
      ]
     },
     "execution_count": 110,
     "metadata": {},
     "output_type": "execute_result"
    }
   ],
   "source": [
    "h1 = np.ones((2,4))\n",
    "h2 = np.zeros((2,2))\n",
    "\n",
    "np.hstack((h1,h2))"
   ]
  }
 ],
 "metadata": {
  "kernelspec": {
   "display_name": "Python 3 (ipykernel)",
   "language": "python",
   "name": "python3"
  },
  "language_info": {
   "codemirror_mode": {
    "name": "ipython",
    "version": 3
   },
   "file_extension": ".py",
   "mimetype": "text/x-python",
   "name": "python",
   "nbconvert_exporter": "python",
   "pygments_lexer": "ipython3",
   "version": "3.11.7"
  }
 },
 "nbformat": 4,
 "nbformat_minor": 5
}
