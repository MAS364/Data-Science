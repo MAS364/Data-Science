{
 "cells": [
  {
   "cell_type": "markdown",
   "id": "e66c074c-af48-4b07-a092-d65249429799",
   "metadata": {},
   "source": [
    "## Arithmetic Operation"
   ]
  },
  {
   "cell_type": "markdown",
   "id": "1517e21f-289e-4ed4-92ad-75f1898f23fc",
   "metadata": {},
   "source": [
    "### Addition - (+)"
   ]
  },
  {
   "cell_type": "code",
   "execution_count": 2,
   "id": "5b1510c8-8a6b-4536-89ca-c9e8eb12123e",
   "metadata": {},
   "outputs": [
    {
     "name": "stdout",
     "output_type": "stream",
     "text": [
      "[[12 14]\n",
      " [16 18]]\n"
     ]
    }
   ],
   "source": [
    "import numpy as np\n",
    "x = np.array([[1,2],\n",
    "               [3,4]])\n",
    "y = np.array([[11,12],\n",
    "              [13,14] ])\n",
    "z = x + y\n",
    "print(z)"
   ]
  },
  {
   "cell_type": "markdown",
   "id": "0d2b811f-84b6-4e0e-b11f-e54d0022b3b1",
   "metadata": {},
   "source": [
    "### Subtraction -  (-)"
   ]
  },
  {
   "cell_type": "code",
   "execution_count": 3,
   "id": "1492a2fd-a638-4ec7-b498-772a97cf813c",
   "metadata": {},
   "outputs": [
    {
     "name": "stdout",
     "output_type": "stream",
     "text": [
      "[[-10 -10]\n",
      " [-10 -10]]\n"
     ]
    }
   ],
   "source": [
    "import numpy as np\n",
    "x = np.array([ [1,2], \n",
    "               [3,4] ])\n",
    "y = np.array([ [11,12],\n",
    "               [13,14] ])\n",
    "z = x - y\n",
    "print(z)"
   ]
  },
  {
   "cell_type": "markdown",
   "id": "eb034341-b673-4f84-a6ce-83043fa3920c",
   "metadata": {},
   "source": [
    "### Multiplication - (*)"
   ]
  },
  {
   "cell_type": "code",
   "execution_count": 4,
   "id": "ae2fe9aa-b8b0-4d37-b3ff-24b26b5f8134",
   "metadata": {},
   "outputs": [
    {
     "name": "stdout",
     "output_type": "stream",
     "text": [
      "[[11 24]\n",
      " [39 56]]\n"
     ]
    }
   ],
   "source": [
    "import numpy as np\n",
    "x = np.array([ [1,2],\n",
    "               [3,4] ])\n",
    "y = np.array( [ [11,12], \n",
    "                [13,14] ] )\n",
    "z = x * y\n",
    "print(z)"
   ]
  },
  {
   "cell_type": "markdown",
   "id": "366da95e-c9bd-47aa-a2df-9f1c2ca75dcc",
   "metadata": {},
   "source": [
    "### Matrix Mulitplication - ( @ )"
   ]
  },
  {
   "cell_type": "code",
   "execution_count": 5,
   "id": "0159147e-e249-4137-80c0-36012559e02b",
   "metadata": {},
   "outputs": [
    {
     "name": "stdout",
     "output_type": "stream",
     "text": [
      "[[37 40]\n",
      " [85 92]]\n"
     ]
    }
   ],
   "source": [
    "import numpy as np\n",
    "x = np.array([ [1,2],\n",
    "               [3,4] ])\n",
    "y = np.array( [ [11,12], \n",
    "                [13,14] ] )\n",
    "z = x @ y\n",
    "print(z)"
   ]
  },
  {
   "cell_type": "markdown",
   "id": "d183030a-c891-4bd7-821b-5772041d563e",
   "metadata": {},
   "source": [
    "### Division - ( / )"
   ]
  },
  {
   "cell_type": "code",
   "execution_count": 7,
   "id": "bd326739-43d2-486d-9ab1-265105bd6328",
   "metadata": {},
   "outputs": [
    {
     "name": "stdout",
     "output_type": "stream",
     "text": [
      "[[11.          6.        ]\n",
      " [ 4.33333333  3.5       ]]\n"
     ]
    }
   ],
   "source": [
    "import numpy as np\n",
    "x = np.array([ [1,2],\n",
    "               [3,4] ])\n",
    "y = np.array( [ [11,12], \n",
    "                [13,14] ] )\n",
    "z =  y / x\n",
    "print(z)\n",
    "\n",
    "# / -> It gives us quotient "
   ]
  },
  {
   "cell_type": "markdown",
   "id": "5d46d6eb-6279-4771-af93-9c605b05337f",
   "metadata": {},
   "source": [
    "### Floor Division - ( // )"
   ]
  },
  {
   "cell_type": "code",
   "execution_count": 8,
   "id": "e609183d-d571-44a2-b766-ffe258820199",
   "metadata": {},
   "outputs": [
    {
     "name": "stdout",
     "output_type": "stream",
     "text": [
      "[[11  6]\n",
      " [ 4  3]]\n"
     ]
    }
   ],
   "source": [
    "import numpy as np\n",
    "x = np.array([ [1,2],\n",
    "               [3,4] ])\n",
    "y = np.array( [ [11,12], \n",
    "                [13,14] ] )\n",
    "z =  y // x\n",
    "print(z)\n",
    "\n",
    "# // -> It also gives us quotient, but as an integer"
   ]
  },
  {
   "cell_type": "markdown",
   "id": "aa6558e4-03ee-4336-8427-2fb863095559",
   "metadata": {},
   "source": [
    "### Exponentiation - ( ** )"
   ]
  },
  {
   "cell_type": "code",
   "execution_count": 9,
   "id": "e042d40b-e6ff-4dbf-8f69-4cb56dd6bda5",
   "metadata": {},
   "outputs": [
    {
     "name": "stdout",
     "output_type": "stream",
     "text": [
      "[[   11   144]\n",
      " [ 2197 38416]]\n"
     ]
    }
   ],
   "source": [
    "import numpy as np\n",
    "x = np.array([ [1,2],\n",
    "               [3,4] ])\n",
    "y = np.array( [ [11,12], \n",
    "                [13,14] ] )\n",
    "z =  y ** x\n",
    "print(z)"
   ]
  },
  {
   "cell_type": "markdown",
   "id": "805a2034-0cdd-4e26-8038-776f10b232b4",
   "metadata": {},
   "source": [
    "### Modulo - ( % )"
   ]
  },
  {
   "cell_type": "code",
   "execution_count": 10,
   "id": "2271e66e-cbcb-423e-840a-b8cd4f395372",
   "metadata": {},
   "outputs": [
    {
     "name": "stdout",
     "output_type": "stream",
     "text": [
      "[[0 0]\n",
      " [1 2]]\n"
     ]
    }
   ],
   "source": [
    "import numpy as np\n",
    "x = np.array([ [1,2],\n",
    "               [3,4] ])\n",
    "y = np.array( [ [11,12], \n",
    "                [13,14] ] )\n",
    "z =  y % x\n",
    "print(z)\n",
    "\n",
    "# % -> It gives us remainder"
   ]
  },
  {
   "cell_type": "markdown",
   "id": "0f978287-81b9-4380-bf14-50e6419baabd",
   "metadata": {},
   "source": [
    "### Transpose "
   ]
  },
  {
   "cell_type": "code",
   "execution_count": 1,
   "id": "6742a582-85d0-4853-9e25-136c81baa35e",
   "metadata": {},
   "outputs": [
    {
     "name": "stdout",
     "output_type": "stream",
     "text": [
      "[[1 3]\n",
      " [2 4]]\n",
      "[[11 13]\n",
      " [12 14]]\n"
     ]
    }
   ],
   "source": [
    "import numpy as np\n",
    "x = np.array([ [1,2],\n",
    "               [3,4] ])\n",
    "y = np.array( [ [11,12], \n",
    "                [13,14] ] )\n",
    "print(x.transpose())\n",
    "print(y.transpose())\n",
    "\n",
    "# Transpose means :\n",
    "# Rows becomes Columns\n",
    "# Columns becomes Rows"
   ]
  },
  {
   "cell_type": "code",
   "execution_count": null,
   "id": "4305e922-47d1-4f96-b3e3-4662924f4a6d",
   "metadata": {},
   "outputs": [],
   "source": []
  }
 ],
 "metadata": {
  "kernelspec": {
   "display_name": "Python 3 (ipykernel)",
   "language": "python",
   "name": "python3"
  },
  "language_info": {
   "codemirror_mode": {
    "name": "ipython",
    "version": 3
   },
   "file_extension": ".py",
   "mimetype": "text/x-python",
   "name": "python",
   "nbconvert_exporter": "python",
   "pygments_lexer": "ipython3",
   "version": "3.11.7"
  }
 },
 "nbformat": 4,
 "nbformat_minor": 5
}
