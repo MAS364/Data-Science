{
 "cells": [
  {
   "cell_type": "markdown",
   "id": "6df51104-980d-424b-8dc9-ac1593454f01",
   "metadata": {},
   "source": [
    "## How to create numpy 1-D Array ?"
   ]
  },
  {
   "cell_type": "code",
   "execution_count": 1,
   "id": "268c2ea4-283b-40ea-9bcb-cb640151cbbe",
   "metadata": {},
   "outputs": [
    {
     "name": "stdout",
     "output_type": "stream",
     "text": [
      "[1 2 3 4 5]\n"
     ]
    },
    {
     "data": {
      "text/plain": [
       "numpy.ndarray"
      ]
     },
     "execution_count": 1,
     "metadata": {},
     "output_type": "execute_result"
    }
   ],
   "source": [
    "import numpy as np\n",
    "list1 = [1,2,3,4,5]\n",
    "array1 = np.array(list1)\n",
    "print(array1)\n",
    "type(array1)"
   ]
  },
  {
   "cell_type": "code",
   "execution_count": 2,
   "id": "a66cfcd4-cbf8-4ac7-b25f-045a182f3505",
   "metadata": {},
   "outputs": [
    {
     "name": "stdout",
     "output_type": "stream",
     "text": [
      "1\n"
     ]
    }
   ],
   "source": [
    "print(array1.ndim)"
   ]
  },
  {
   "cell_type": "code",
   "execution_count": 3,
   "id": "15c53aff-5e0d-4401-91d4-7cbe8489872f",
   "metadata": {},
   "outputs": [
    {
     "name": "stdout",
     "output_type": "stream",
     "text": [
      "[1. 2. 3. 4. 5.]\n"
     ]
    },
    {
     "data": {
      "text/plain": [
       "numpy.ndarray"
      ]
     },
     "execution_count": 3,
     "metadata": {},
     "output_type": "execute_result"
    }
   ],
   "source": [
    "import numpy as np\n",
    "list1 = [1,2.0,3,4,5]\n",
    "array1 = np.array(list1)\n",
    "print(array1)\n",
    "type(array1)"
   ]
  },
  {
   "cell_type": "code",
   "execution_count": 4,
   "id": "3f3f39a8-3cc2-4ef1-ad89-cec3f374e562",
   "metadata": {},
   "outputs": [
    {
     "name": "stdout",
     "output_type": "stream",
     "text": [
      "['1' 'hello' '3' '4' '5']\n"
     ]
    },
    {
     "data": {
      "text/plain": [
       "numpy.ndarray"
      ]
     },
     "execution_count": 4,
     "metadata": {},
     "output_type": "execute_result"
    }
   ],
   "source": [
    "import numpy as np\n",
    "list1 = [1,'hello',3,4,5]\n",
    "array1 = np.array(list1)\n",
    "print(array1)\n",
    "type(array1)"
   ]
  },
  {
   "cell_type": "code",
   "execution_count": 5,
   "id": "eadfe9be-7478-436c-9df4-3aa6cc73bfba",
   "metadata": {},
   "outputs": [
    {
     "name": "stdout",
     "output_type": "stream",
     "text": [
      "['10' '20' '30' '40' '50']\n"
     ]
    }
   ],
   "source": [
    "import numpy as np\n",
    "list1 = [10,20,'30',40,50]\n",
    "ar3 = np.array(list1)\n",
    "print(ar3)"
   ]
  },
  {
   "cell_type": "markdown",
   "id": "0d408e60-b96b-44e7-8178-c9dc13490ebe",
   "metadata": {},
   "source": [
    "It will convert all the elements into string\n",
    "\n",
    "Numpy array contains elements of same type - They are homogenous in nature"
   ]
  },
  {
   "cell_type": "code",
   "execution_count": 6,
   "id": "264c8294-9537-44ef-b902-557ca1ad4163",
   "metadata": {},
   "outputs": [
    {
     "name": "stdout",
     "output_type": "stream",
     "text": [
      "['10' '20' '30' '30' '50']\n"
     ]
    }
   ],
   "source": [
    "import numpy as np\n",
    "list1 = [10,20,30,30,50]\n",
    "ar3 = np.array(list1, dtype= str)\n",
    "print(ar3)\n",
    "\n",
    "#dtype - specifies the type of data stored in an array "
   ]
  },
  {
   "cell_type": "markdown",
   "id": "f769a72b-89cc-4ded-b636-989dacfea679",
   "metadata": {},
   "source": [
    "## How to create numpy 2D array ?"
   ]
  },
  {
   "cell_type": "code",
   "execution_count": 2,
   "id": "d5b60f40-2020-4f70-b8e5-d8bddece00bf",
   "metadata": {},
   "outputs": [
    {
     "name": "stdout",
     "output_type": "stream",
     "text": [
      "[[10 20 30]\n",
      " [40 50 60]\n",
      " [70 80 90]]\n"
     ]
    }
   ],
   "source": [
    "import numpy as np\n",
    "l = [ [10,20,30], [40,50,60], [70,80,90] ]\n",
    "a = np.array(l)\n",
    "print(a)"
   ]
  },
  {
   "cell_type": "code",
   "execution_count": 8,
   "id": "3191b554-ba90-4414-9b06-9202a5b84ee8",
   "metadata": {},
   "outputs": [
    {
     "name": "stdout",
     "output_type": "stream",
     "text": [
      "2\n"
     ]
    }
   ],
   "source": [
    "print(a.ndim)"
   ]
  },
  {
   "cell_type": "code",
   "execution_count": 3,
   "id": "5a98afb4-a1fe-43b9-a747-2f2225df4108",
   "metadata": {},
   "outputs": [
    {
     "name": "stdout",
     "output_type": "stream",
     "text": [
      "(3, 3)\n"
     ]
    }
   ],
   "source": [
    "print(a.shape)"
   ]
  },
  {
   "cell_type": "code",
   "execution_count": null,
   "id": "a503ab40-283c-44d4-8056-61dce11cec06",
   "metadata": {},
   "outputs": [],
   "source": [
    "The shape of an array can be defined as the number of elements in each dimension."
   ]
  }
 ],
 "metadata": {
  "kernelspec": {
   "display_name": "Python 3 (ipykernel)",
   "language": "python",
   "name": "python3"
  },
  "language_info": {
   "codemirror_mode": {
    "name": "ipython",
    "version": 3
   },
   "file_extension": ".py",
   "mimetype": "text/x-python",
   "name": "python",
   "nbconvert_exporter": "python",
   "pygments_lexer": "ipython3",
   "version": "3.11.7"
  }
 },
 "nbformat": 4,
 "nbformat_minor": 5
}
