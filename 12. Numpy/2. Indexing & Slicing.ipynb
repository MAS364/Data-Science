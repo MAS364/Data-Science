{
 "cells": [
  {
   "cell_type": "markdown",
   "id": "985dd355-7bb4-41a4-aac7-dca8c3c78dfb",
   "metadata": {},
   "source": [
    "## Indexing"
   ]
  },
  {
   "cell_type": "code",
   "execution_count": 2,
   "id": "ce2cd562-ffb3-4fe6-9cbf-506539115456",
   "metadata": {},
   "outputs": [
    {
     "name": "stdout",
     "output_type": "stream",
     "text": [
      "[10 20 30 40 50]\n"
     ]
    }
   ],
   "source": [
    "import numpy as np\n",
    "arr = np.array([10,20,30,40,50])\n",
    "print(arr)"
   ]
  },
  {
   "cell_type": "code",
   "execution_count": 3,
   "id": "9956fbce-4f7b-41bc-bdcc-19c109de36f2",
   "metadata": {},
   "outputs": [
    {
     "name": "stdout",
     "output_type": "stream",
     "text": [
      "10\n"
     ]
    }
   ],
   "source": [
    "print(arr[0])"
   ]
  },
  {
   "cell_type": "code",
   "execution_count": 4,
   "id": "c83c36e9-1fd3-4d93-92fb-e0c0d849323e",
   "metadata": {},
   "outputs": [
    {
     "name": "stdout",
     "output_type": "stream",
     "text": [
      "20\n"
     ]
    }
   ],
   "source": [
    "print(arr[1])"
   ]
  },
  {
   "cell_type": "code",
   "execution_count": 5,
   "id": "810b67a0-fcef-4ea6-a2ec-c09417ab5f71",
   "metadata": {},
   "outputs": [
    {
     "name": "stdout",
     "output_type": "stream",
     "text": [
      "[[10 20 30]\n",
      " [40 50 60]\n",
      " [70 80 90]]\n"
     ]
    }
   ],
   "source": [
    "import numpy as np\n",
    "arr = np.array([(10,20,30), (40,50,60), (70,80,90)])\n",
    "print(arr)"
   ]
  },
  {
   "cell_type": "code",
   "execution_count": 6,
   "id": "3484f9c0-05b0-45e9-a287-0b1cf0da94a2",
   "metadata": {},
   "outputs": [
    {
     "name": "stdout",
     "output_type": "stream",
     "text": [
      "60\n"
     ]
    }
   ],
   "source": [
    "print(arr[1,2])"
   ]
  },
  {
   "cell_type": "code",
   "execution_count": 8,
   "id": "9b84e51d-bdf9-4da1-afd7-2e8608a9f626",
   "metadata": {},
   "outputs": [
    {
     "name": "stdout",
     "output_type": "stream",
     "text": [
      "[10 20 30]\n"
     ]
    }
   ],
   "source": [
    "print(arr[0,:])"
   ]
  },
  {
   "cell_type": "code",
   "execution_count": 9,
   "id": "461eab3b-9a90-4751-8b2f-5b6dd5182fd8",
   "metadata": {},
   "outputs": [
    {
     "name": "stdout",
     "output_type": "stream",
     "text": [
      "[40 50 60]\n"
     ]
    }
   ],
   "source": [
    "print(arr[1,:])"
   ]
  },
  {
   "cell_type": "code",
   "execution_count": 10,
   "id": "6b0bdb8a-0618-408f-8d8e-79e84881d604",
   "metadata": {},
   "outputs": [
    {
     "name": "stdout",
     "output_type": "stream",
     "text": [
      "[10 40 70]\n"
     ]
    }
   ],
   "source": [
    "print(arr[:,0])"
   ]
  },
  {
   "cell_type": "code",
   "execution_count": 11,
   "id": "77552577-320c-4d7c-ba3a-45bc1729e8a8",
   "metadata": {},
   "outputs": [
    {
     "name": "stdout",
     "output_type": "stream",
     "text": [
      "[20 50 80]\n"
     ]
    }
   ],
   "source": [
    "print(arr[:,1])"
   ]
  },
  {
   "cell_type": "code",
   "execution_count": 12,
   "id": "c04a4b61-522a-47fc-864c-3ce2c3e04b14",
   "metadata": {},
   "outputs": [
    {
     "name": "stdout",
     "output_type": "stream",
     "text": [
      "[30 60 90]\n"
     ]
    }
   ],
   "source": [
    "print(arr[:,2])"
   ]
  },
  {
   "cell_type": "markdown",
   "id": "09813a09-cdaf-461a-96ef-b73327d37971",
   "metadata": {},
   "source": [
    "#### https://www.programiz.com/python-programming/numpy/array-indexing\n",
    "#### https://www.youtube.com/watch?v=XLOsE-xxGN0"
   ]
  },
  {
   "cell_type": "markdown",
   "id": "a591c005-54a8-41e5-af0d-2e846c22bbf9",
   "metadata": {},
   "source": [
    "## Slicing"
   ]
  },
  {
   "cell_type": "markdown",
   "id": "81bd0f8b-2eb7-43bd-b1b6-77404b3132fc",
   "metadata": {},
   "source": [
    "Slicing is a way to extract a subset of data from a numpy array"
   ]
  },
  {
   "cell_type": "markdown",
   "id": "400ebd5d-61c6-4008-8dc9-34de44442cfe",
   "metadata": {},
   "source": [
    "[ start, stop, step ]\n",
    "\n",
    " We stop just before the stop.\n",
    " Bcz indexing starts from zero\n",
    "\n",
    "\n",
    " Start --> Start\n",
    " \n",
    " Stop --> Just before the stop\n",
    " \n",
    "\n",
    " By default  :\n",
    " start --> 0\n",
    " step  --> 1 step \n",
    " "
   ]
  },
  {
   "cell_type": "markdown",
   "id": "558292d5-6fdf-469b-94a7-2e72c03c5eae",
   "metadata": {},
   "source": [
    "### 1-D Array"
   ]
  },
  {
   "cell_type": "code",
   "execution_count": 14,
   "id": "0a45b1d1-4a5c-48d1-8d1a-9ee5bad5298d",
   "metadata": {},
   "outputs": [
    {
     "name": "stdout",
     "output_type": "stream",
     "text": [
      "[20 30]\n"
     ]
    }
   ],
   "source": [
    "import numpy as np\n",
    "arr = np.array([10,20,30,40,50,60,70])\n",
    "print(arr[1:3])\n",
    "\n",
    "# Start -> 1\n",
    "# Stop -> 3\n",
    "\n",
    "# Here, we are stopping at index 2, just before the stop.\n",
    "# Reason -> indexing starts at zero"
   ]
  },
  {
   "cell_type": "code",
   "execution_count": 15,
   "id": "66a9eb21-2689-47b5-82c3-5545d512e1b1",
   "metadata": {},
   "outputs": [
    {
     "name": "stdout",
     "output_type": "stream",
     "text": [
      "[20 40 60]\n"
     ]
    }
   ],
   "source": [
    "print(arr[1:6:2])"
   ]
  },
  {
   "cell_type": "code",
   "execution_count": 17,
   "id": "45f23f4d-ceca-4628-8a25-638815c99256",
   "metadata": {},
   "outputs": [
    {
     "name": "stdout",
     "output_type": "stream",
     "text": [
      "[10 30 50 70]\n"
     ]
    }
   ],
   "source": [
    "print(arr[::2])"
   ]
  },
  {
   "cell_type": "code",
   "execution_count": 18,
   "id": "6e80de15-065f-419f-a11e-e8d3338d014e",
   "metadata": {},
   "outputs": [
    {
     "name": "stdout",
     "output_type": "stream",
     "text": [
      "[70 60 50 40 30 20 10]\n"
     ]
    }
   ],
   "source": [
    "print(arr[::-1])"
   ]
  },
  {
   "cell_type": "markdown",
   "id": "35ad2093-b64e-4b99-9b72-a49738a71bff",
   "metadata": {},
   "source": [
    "### 2-D Array"
   ]
  },
  {
   "cell_type": "code",
   "execution_count": 1,
   "id": "3d2addca-ea2c-49ad-9973-d9c9adc8eed6",
   "metadata": {},
   "outputs": [
    {
     "name": "stdout",
     "output_type": "stream",
     "text": [
      "[[15 16 17]\n",
      " [25 26 27]\n",
      " [35 36 37]\n",
      " [45 46 47]]\n"
     ]
    }
   ],
   "source": [
    "import numpy as np\n",
    "arr = np.array([ [15,16,17], [25,26,27], [35,36,37], [45,46,47]])\n",
    "print(arr)"
   ]
  },
  {
   "cell_type": "code",
   "execution_count": 21,
   "id": "01e11a27-97a6-4140-a9fd-744c1603dff9",
   "metadata": {},
   "outputs": [
    {
     "name": "stdout",
     "output_type": "stream",
     "text": [
      "[25 26 27]\n"
     ]
    }
   ],
   "source": [
    "print(arr[1, ])"
   ]
  },
  {
   "cell_type": "code",
   "execution_count": 23,
   "id": "c7d51754-34c3-4629-9be2-5930679987e2",
   "metadata": {},
   "outputs": [
    {
     "name": "stdout",
     "output_type": "stream",
     "text": [
      "[16 26 36 46]\n"
     ]
    }
   ],
   "source": [
    "print(arr[:, 1])"
   ]
  },
  {
   "cell_type": "code",
   "execution_count": 24,
   "id": "28446d57-653e-4040-96df-9e42218d0e84",
   "metadata": {},
   "outputs": [
    {
     "name": "stdout",
     "output_type": "stream",
     "text": [
      "[[26 27]\n",
      " [36 37]]\n"
     ]
    }
   ],
   "source": [
    "print(arr[1:3, 1:3])"
   ]
  },
  {
   "cell_type": "code",
   "execution_count": 25,
   "id": "a1321b9c-bf46-4151-b6ad-8da0662d984d",
   "metadata": {},
   "outputs": [
    {
     "name": "stdout",
     "output_type": "stream",
     "text": [
      "[[25 26 27]\n",
      " [35 36 37]]\n"
     ]
    }
   ],
   "source": [
    "print(arr[1:3, ])"
   ]
  },
  {
   "cell_type": "code",
   "execution_count": 26,
   "id": "fe9884cb-7f25-4539-a804-7d3e9e05a2f9",
   "metadata": {},
   "outputs": [
    {
     "name": "stdout",
     "output_type": "stream",
     "text": [
      "[[16 17]\n",
      " [26 27]\n",
      " [36 37]\n",
      " [46 47]]\n"
     ]
    }
   ],
   "source": [
    "print(arr[:, 1:3])"
   ]
  },
  {
   "cell_type": "code",
   "execution_count": 27,
   "id": "53b560dd-6933-443d-b98e-dc7feacd63ac",
   "metadata": {},
   "outputs": [
    {
     "name": "stdout",
     "output_type": "stream",
     "text": [
      "[26 36]\n"
     ]
    }
   ],
   "source": [
    "print(arr[1:3,1])"
   ]
  },
  {
   "cell_type": "code",
   "execution_count": 28,
   "id": "addbc03a-e04e-40fe-aebe-bc8e44769f15",
   "metadata": {},
   "outputs": [
    {
     "name": "stdout",
     "output_type": "stream",
     "text": [
      "[[25]\n",
      " [35]]\n"
     ]
    }
   ],
   "source": [
    "print(arr[1:3, :1])"
   ]
  },
  {
   "cell_type": "markdown",
   "id": "c4f2d032-a848-48e2-be16-61e978713494",
   "metadata": {},
   "source": [
    "### https://www.youtube.com/watch?v=atG-l8VI8z4"
   ]
  }
 ],
 "metadata": {
  "kernelspec": {
   "display_name": "Python 3 (ipykernel)",
   "language": "python",
   "name": "python3"
  },
  "language_info": {
   "codemirror_mode": {
    "name": "ipython",
    "version": 3
   },
   "file_extension": ".py",
   "mimetype": "text/x-python",
   "name": "python",
   "nbconvert_exporter": "python",
   "pygments_lexer": "ipython3",
   "version": "3.11.7"
  }
 },
 "nbformat": 4,
 "nbformat_minor": 5
}
