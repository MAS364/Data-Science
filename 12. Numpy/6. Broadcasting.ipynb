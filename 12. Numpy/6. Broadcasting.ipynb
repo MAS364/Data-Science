{
 "cells": [
  {
   "cell_type": "markdown",
   "id": "f7f20a0d-8c3e-4d33-b6df-74eb2b46f415",
   "metadata": {},
   "source": [
    "### Broadcasting"
   ]
  },
  {
   "cell_type": "markdown",
   "id": "95b8ab63-3542-4851-80aa-894b9ee5533d",
   "metadata": {},
   "source": [
    "Broadcasting is a method in numpy that allow us to do arithmetic operation on arrays of diferent shape / size\n",
    "\n",
    "Broadcasting will stretch the value or array to the required shape\n",
    "\n",
    "#### Rules for broadcasting :\n",
    "1] Size of each dimension should be same\n",
    "\n",
    "2] Size of one of the dimension should be one\n",
    "\n",
    "If the above rules are satisfied, then the arithmetic operation will be performed.\n",
    "\n",
    "\n",
    "#### Steps :\n",
    "1] Check the shape\n",
    "\n",
    "2] Check the dimensions - (If the arrays have diferent dimensions, pad the smaller array shape with ones on the leftside.)\n",
    "\n",
    "3] Check the size of dimensions - ( Compare from the trailing end (rightside) to check whether broadcasting rules statisfy or not )\n",
    "\n",
    "4] If the broadcast rule is satisfied, the array is stretched to the required shape, and then the arithmetic operation is performed."
   ]
  },
  {
   "cell_type": "markdown",
   "id": "d7be7e62-8a99-4008-8bd9-26d4c0b5f1f5",
   "metadata": {},
   "source": [
    "### Examples"
   ]
  },
  {
   "cell_type": "markdown",
   "id": "6544557f-886b-4df5-8e92-6a6ca975f14a",
   "metadata": {},
   "source": [
    "### Ex - 1"
   ]
  },
  {
   "cell_type": "code",
   "execution_count": 2,
   "id": "b3712da2-af79-45ef-be0e-ed191c0d1f95",
   "metadata": {},
   "outputs": [
    {
     "data": {
      "text/plain": [
       "array([[11, 22],\n",
       "       [13, 24],\n",
       "       [15, 26]])"
      ]
     },
     "execution_count": 2,
     "metadata": {},
     "output_type": "execute_result"
    }
   ],
   "source": [
    "import numpy as np\n",
    "a = np.array([ [1,2], [3,4], [5,6]])\n",
    "b = np.array([10,20])\n",
    "a + b"
   ]
  },
  {
   "cell_type": "markdown",
   "id": "a0f7a369-76a4-4621-af02-bc8e6ec3c18d",
   "metadata": {},
   "source": [
    "### Ex - 2"
   ]
  },
  {
   "cell_type": "code",
   "execution_count": 3,
   "id": "fb50acea-792a-456b-91cb-e68ab6bd882d",
   "metadata": {},
   "outputs": [
    {
     "ename": "ValueError",
     "evalue": "operands could not be broadcast together with shapes (3,2) (3,) ",
     "output_type": "error",
     "traceback": [
      "\u001b[0;31m---------------------------------------------------------------------------\u001b[0m",
      "\u001b[0;31mValueError\u001b[0m                                Traceback (most recent call last)",
      "Cell \u001b[0;32mIn[3], line 4\u001b[0m\n\u001b[1;32m      2\u001b[0m a \u001b[38;5;241m=\u001b[39m np\u001b[38;5;241m.\u001b[39marray([ [\u001b[38;5;241m1\u001b[39m,\u001b[38;5;241m2\u001b[39m], [\u001b[38;5;241m3\u001b[39m,\u001b[38;5;241m4\u001b[39m], [\u001b[38;5;241m5\u001b[39m,\u001b[38;5;241m6\u001b[39m] ])\n\u001b[1;32m      3\u001b[0m b \u001b[38;5;241m=\u001b[39m np\u001b[38;5;241m.\u001b[39marray([\u001b[38;5;241m1\u001b[39m,\u001b[38;5;241m2\u001b[39m,\u001b[38;5;241m3\u001b[39m])\n\u001b[0;32m----> 4\u001b[0m a\u001b[38;5;241m+\u001b[39mb\n",
      "\u001b[0;31mValueError\u001b[0m: operands could not be broadcast together with shapes (3,2) (3,) "
     ]
    }
   ],
   "source": [
    "import numpy as np\n",
    "a = np.array([ [1,2], [3,4], [5,6] ])\n",
    "b = np.array([1,2,3])\n",
    "a+b"
   ]
  },
  {
   "cell_type": "markdown",
   "id": "870b96b3-db85-43e8-80c0-34481bc8945f",
   "metadata": {},
   "source": [
    "### Ex - 3"
   ]
  },
  {
   "cell_type": "code",
   "execution_count": 5,
   "id": "dd79c3c3-54ad-4148-b852-8fe2c4f523aa",
   "metadata": {},
   "outputs": [
    {
     "data": {
      "text/plain": [
       "array([[11, 21, 31],\n",
       "       [12, 22, 32],\n",
       "       [13, 23, 33]])"
      ]
     },
     "execution_count": 5,
     "metadata": {},
     "output_type": "execute_result"
    }
   ],
   "source": [
    "import numpy as np\n",
    "a = np.array([ [1], [2], [3] ])\n",
    "b = np.array( [10,20,30] )\n",
    "a+b"
   ]
  },
  {
   "cell_type": "code",
   "execution_count": null,
   "id": "35cb990d-8aa9-48b9-93a5-7dc2451eb854",
   "metadata": {},
   "outputs": [],
   "source": [
    "# https://www.youtube.com/watch?v=0u9OzBSRZec"
   ]
  }
 ],
 "metadata": {
  "kernelspec": {
   "display_name": "Python 3 (ipykernel)",
   "language": "python",
   "name": "python3"
  },
  "language_info": {
   "codemirror_mode": {
    "name": "ipython",
    "version": 3
   },
   "file_extension": ".py",
   "mimetype": "text/x-python",
   "name": "python",
   "nbconvert_exporter": "python",
   "pygments_lexer": "ipython3",
   "version": "3.11.7"
  }
 },
 "nbformat": 4,
 "nbformat_minor": 5
}
