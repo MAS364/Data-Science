{
 "cells": [
  {
   "cell_type": "markdown",
   "id": "79e4f38c-1dd1-48e5-895e-67535df0117b",
   "metadata": {},
   "source": [
    "## Numpy functions"
   ]
  },
  {
   "cell_type": "markdown",
   "id": "74278157-4a0d-4d89-8a08-149471c78824",
   "metadata": {},
   "source": [
    "np.ones()\n",
    "\n",
    "np.zeros()\n",
    "\n",
    "np.full()\n",
    "\n",
    "np.empty()\n",
    "\n",
    "np.arange()\n",
    "\n",
    "np.linspace()\n",
    "\n",
    "np.identity()\n",
    "\n",
    "np.eye()\n",
    "\n",
    "np.random.rand()\n",
    "\n",
    "np.random.rand.int()\n",
    "\n",
    "np.shape()\n",
    "\n",
    "np.reshape()"
   ]
  },
  {
   "cell_type": "markdown",
   "id": "72a6732e-3570-474c-9a37-d48696c486ad",
   "metadata": {},
   "source": [
    "### np.ones()"
   ]
  },
  {
   "cell_type": "markdown",
   "id": "a1c5228c-18e1-498b-8cb9-50c6fe9e271f",
   "metadata": {},
   "source": [
    "It will create arrays filled with ones"
   ]
  },
  {
   "cell_type": "code",
   "execution_count": 7,
   "id": "60963789-63f1-41fb-9d00-c6c1e0118ac3",
   "metadata": {},
   "outputs": [
    {
     "name": "stdout",
     "output_type": "stream",
     "text": [
      "[1. 1. 1. 1. 1.]\n"
     ]
    }
   ],
   "source": [
    "import numpy as np\n",
    "arr = np.ones(5)\n",
    "print(arr)\n",
    "\n",
    "#Here it will create 1-D array filled with 5 ones"
   ]
  },
  {
   "cell_type": "code",
   "execution_count": 8,
   "id": "9d5d9a5e-a9a0-44d4-b96b-a5e2e9c78aeb",
   "metadata": {},
   "outputs": [
    {
     "name": "stdout",
     "output_type": "stream",
     "text": [
      "[1 1 1 1 1]\n"
     ]
    }
   ],
   "source": [
    "import numpy as np\n",
    "arr = np.ones(5, dtype=int)\n",
    "print(arr)\n",
    "\n",
    "#Here, we are creating 1-D array filled with 5 ones of int type"
   ]
  },
  {
   "cell_type": "code",
   "execution_count": 11,
   "id": "01b8aa4e-e999-43b0-9b7f-d1d84629c27b",
   "metadata": {},
   "outputs": [
    {
     "name": "stdout",
     "output_type": "stream",
     "text": [
      "[[1. 1. 1.]\n",
      " [1. 1. 1.]]\n"
     ]
    }
   ],
   "source": [
    "import numpy as np\n",
    "arr = np.ones((2,3))\n",
    "print(arr)\n",
    "\n",
    "# Create 2-D array\n",
    "# 2 -> Rows\n",
    "# 3 -> Columns\n",
    "# Datatype - By default - float"
   ]
  },
  {
   "cell_type": "code",
   "execution_count": 12,
   "id": "fc6be8db-d85b-4343-9dfb-02ee911a5757",
   "metadata": {},
   "outputs": [
    {
     "name": "stdout",
     "output_type": "stream",
     "text": [
      "[[1 1 1]\n",
      " [1 1 1]]\n"
     ]
    }
   ],
   "source": [
    "import numpy as np\n",
    "arr = np.ones((2,3), dtype=int)\n",
    "print(arr)"
   ]
  },
  {
   "cell_type": "markdown",
   "id": "4128f2c5-7a50-4522-b154-21432145a509",
   "metadata": {},
   "source": [
    "### np.zeros()"
   ]
  },
  {
   "cell_type": "markdown",
   "id": "8e33f808-69cd-46e8-9ccf-0473dfb9da6d",
   "metadata": {},
   "source": [
    "It will create arrays filled with zeros"
   ]
  },
  {
   "cell_type": "code",
   "execution_count": 14,
   "id": "999d462f-9619-4b80-88af-1ca5883c4124",
   "metadata": {},
   "outputs": [
    {
     "name": "stdout",
     "output_type": "stream",
     "text": [
      "[0. 0. 0. 0. 0.]\n"
     ]
    }
   ],
   "source": [
    "import numpy as np\n",
    "arr = np.zeros(5)\n",
    "print(arr)"
   ]
  },
  {
   "cell_type": "code",
   "execution_count": 15,
   "id": "55dc1ed2-4b03-4e97-b3ec-1784145d7b8c",
   "metadata": {},
   "outputs": [
    {
     "name": "stdout",
     "output_type": "stream",
     "text": [
      "[0 0 0 0 0]\n"
     ]
    }
   ],
   "source": [
    "import numpy as np\n",
    "arr = np.zeros(5, dtype=int)\n",
    "print(arr)"
   ]
  },
  {
   "cell_type": "code",
   "execution_count": 16,
   "id": "0a5d630e-4b54-4aaa-8564-203cd3b59741",
   "metadata": {},
   "outputs": [
    {
     "name": "stdout",
     "output_type": "stream",
     "text": [
      "[[0. 0. 0.]\n",
      " [0. 0. 0.]]\n"
     ]
    }
   ],
   "source": [
    "import numpy as np\n",
    "arr = np.zeros((2,3))\n",
    "print(arr)"
   ]
  },
  {
   "cell_type": "code",
   "execution_count": 17,
   "id": "4e78be32-6e45-4fff-819a-ba01bc8d7fe1",
   "metadata": {},
   "outputs": [
    {
     "name": "stdout",
     "output_type": "stream",
     "text": [
      "[[0 0 0]\n",
      " [0 0 0]]\n"
     ]
    }
   ],
   "source": [
    "import numpy as np\n",
    "arr = np.zeros((2,3), dtype=int)\n",
    "print(arr)"
   ]
  },
  {
   "cell_type": "markdown",
   "id": "f292e750-e3e4-4b5e-9182-49251e7a2c68",
   "metadata": {},
   "source": [
    "### np.full()"
   ]
  },
  {
   "cell_type": "markdown",
   "id": "d815e2fb-d772-49ca-a61d-0d86fcd74f98",
   "metadata": {},
   "source": [
    "Full Array - An array in which all values are same (constant)\n",
    "\n",
    "Syntax -\n",
    "\n",
    "np.full(shape, fill_value)\n",
    "\n",
    "shape means - 1-D, 2-D, 3-D\n",
    "\n",
    "fill_value  - values to be filled\n",
    "\n",
    "Default datatype -> integer"
   ]
  },
  {
   "cell_type": "code",
   "execution_count": 1,
   "id": "af2352e8-111a-4c11-8044-4f192670cd19",
   "metadata": {},
   "outputs": [
    {
     "name": "stdout",
     "output_type": "stream",
     "text": [
      "[10 10 10 10 10]\n"
     ]
    }
   ],
   "source": [
    "import numpy as np\n",
    "f2 = np.full(5, 10)\n",
    "print(f2)\n",
    "\n",
    "# creates a NumPy array of length 5 where every element is filled with the value 10."
   ]
  },
  {
   "cell_type": "code",
   "execution_count": 28,
   "id": "6e4de2ce-4f54-4a13-9641-3c817c68111a",
   "metadata": {},
   "outputs": [
    {
     "name": "stdout",
     "output_type": "stream",
     "text": [
      "[5 5 5]\n"
     ]
    }
   ],
   "source": [
    "import numpy as np\n",
    "a = np.full(3,5)\n",
    "print(a)"
   ]
  },
  {
   "cell_type": "markdown",
   "id": "37f40349-2488-46b2-a1cb-e839565f91f2",
   "metadata": {},
   "source": [
    "### 2-D Array"
   ]
  },
  {
   "cell_type": "code",
   "execution_count": 30,
   "id": "b371f182-3aad-424f-b9dc-7ff6b596790a",
   "metadata": {},
   "outputs": [
    {
     "name": "stdout",
     "output_type": "stream",
     "text": [
      "[[5 5 5]\n",
      " [5 5 5]\n",
      " [5 5 5]]\n"
     ]
    }
   ],
   "source": [
    "import numpy as np\n",
    "a = np.full((3,3),5)\n",
    "print(a)\n",
    "\n",
    "#creates a 2-D NumPy array where every element is filled with the value 5."
   ]
  },
  {
   "cell_type": "code",
   "execution_count": 4,
   "id": "7dee4823-292a-45a0-9c7e-6a6fa550c1d5",
   "metadata": {},
   "outputs": [
    {
     "name": "stdout",
     "output_type": "stream",
     "text": [
      "[[5. 5. 5.]\n",
      " [5. 5. 5.]\n",
      " [5. 5. 5.]]\n"
     ]
    }
   ],
   "source": [
    "import numpy as np\n",
    "a = np.full((3,3), 5, dtype=float)\n",
    "print(a)"
   ]
  },
  {
   "cell_type": "code",
   "execution_count": 6,
   "id": "086e645e-a58f-4ca2-8b85-1c9cac60769c",
   "metadata": {},
   "outputs": [
    {
     "data": {
      "text/plain": [
       "(3, 3)"
      ]
     },
     "execution_count": 6,
     "metadata": {},
     "output_type": "execute_result"
    }
   ],
   "source": [
    "a.shape\n",
    "# To check the shape of array  \n",
    "# a - name of the array"
   ]
  },
  {
   "cell_type": "code",
   "execution_count": 7,
   "id": "c910ed43-5dcd-4a7e-aa69-101418f97f18",
   "metadata": {},
   "outputs": [
    {
     "data": {
      "text/plain": [
       "9"
      ]
     },
     "execution_count": 7,
     "metadata": {},
     "output_type": "execute_result"
    }
   ],
   "source": [
    "a.size\n",
    "# To check the size of array\n",
    "# a - name of the array"
   ]
  },
  {
   "cell_type": "code",
   "execution_count": 8,
   "id": "8fe01c19-030e-4afa-9a2e-deff08e4e25a",
   "metadata": {},
   "outputs": [
    {
     "data": {
      "text/plain": [
       "2"
      ]
     },
     "execution_count": 8,
     "metadata": {},
     "output_type": "execute_result"
    }
   ],
   "source": [
    "a.ndim\n",
    "# To check the dimension of array\n",
    "# a - name of the array"
   ]
  },
  {
   "cell_type": "markdown",
   "id": "170bbe26-01d1-4b92-b606-f4b0c9367d16",
   "metadata": {},
   "source": [
    "### np.empty()"
   ]
  },
  {
   "cell_type": "markdown",
   "id": "f8f4cba0-4cf2-4b30-9090-887221f0c36a",
   "metadata": {},
   "source": [
    "Empty function is used to create an array of arbitary values\n",
    "\n",
    "Syntax\n",
    "\n",
    "np.empy(shape, dtype)\n",
    "\n",
    "Shape can be in list or tuple form\n",
    "\n",
    "default datatype is float"
   ]
  },
  {
   "cell_type": "markdown",
   "id": "5c80d8e0-38a4-40fb-8908-dec56dbb443c",
   "metadata": {},
   "source": [
    "\n",
    "The np.empty function in NumPy creates an array without initializing its values. \n",
    "\n",
    "This means that the content of the array is arbitrary and can be anything that was in memory at the time of allocation.\n",
    "\n"
   ]
  },
  {
   "cell_type": "markdown",
   "id": "ef1cf777-8af2-44a9-84d8-96200d57796d",
   "metadata": {},
   "source": [
    "### 1-D Array"
   ]
  },
  {
   "cell_type": "code",
   "execution_count": 13,
   "id": "4e885ef1-d055-4633-92ec-2468299d3151",
   "metadata": {},
   "outputs": [
    {
     "name": "stdout",
     "output_type": "stream",
     "text": [
      "[ 1.    2.75  6.   10.75 17.  ]\n"
     ]
    }
   ],
   "source": [
    "import numpy as np\n",
    "a = np.empty(5)\n",
    "print(a)"
   ]
  },
  {
   "cell_type": "code",
   "execution_count": 14,
   "id": "b968a5e2-e4c1-46bb-bab9-4e0a40aaacfa",
   "metadata": {},
   "outputs": [
    {
     "name": "stdout",
     "output_type": "stream",
     "text": [
      "[4607182418800017408 4613374868287651840 4618441417868443648\n",
      " 4622241330054037504 4625478292286210048]\n"
     ]
    }
   ],
   "source": [
    "import numpy as np\n",
    "a = np.empty(5, dtype = int)\n",
    "print(a)"
   ]
  },
  {
   "cell_type": "markdown",
   "id": "9044aa7f-6132-4f52-b474-e1cc94e10cb7",
   "metadata": {},
   "source": [
    "### 2-D Array"
   ]
  },
  {
   "cell_type": "code",
   "execution_count": 15,
   "id": "0340d53f-9761-47d0-8cfd-901bb48e7d7b",
   "metadata": {},
   "outputs": [
    {
     "name": "stdout",
     "output_type": "stream",
     "text": [
      "[[0. 0. 0.]\n",
      " [0. 0. 0.]]\n"
     ]
    }
   ],
   "source": [
    "import numpy as np\n",
    "a = np.empty((2,3))\n",
    "print(a)"
   ]
  },
  {
   "cell_type": "code",
   "execution_count": 16,
   "id": "753e5180-2b7c-479b-8132-5b45e3691599",
   "metadata": {},
   "outputs": [
    {
     "name": "stdout",
     "output_type": "stream",
     "text": [
      "[[0 0 0]\n",
      " [0 0 0]]\n"
     ]
    }
   ],
   "source": [
    "import numpy as np\n",
    "a = np.empty((2,3), dtype=int)\n",
    "print(a)"
   ]
  },
  {
   "cell_type": "markdown",
   "id": "1e953f67-4706-4290-89f3-44c7e97c659e",
   "metadata": {},
   "source": [
    "### 3-D Array"
   ]
  },
  {
   "cell_type": "code",
   "execution_count": 17,
   "id": "43e78f5f-8ead-4be2-8834-b0f0347ac156",
   "metadata": {},
   "outputs": [
    {
     "name": "stdout",
     "output_type": "stream",
     "text": [
      "[[[0. 0. 0.]\n",
      "  [0. 0. 0.]\n",
      "  [0. 0. 0.]\n",
      "  [0. 0. 0.]\n",
      "  [0. 0. 0.]]\n",
      "\n",
      " [[0. 0. 0.]\n",
      "  [0. 0. 0.]\n",
      "  [0. 0. 0.]\n",
      "  [0. 0. 0.]\n",
      "  [0. 0. 0.]]]\n"
     ]
    }
   ],
   "source": [
    "import numpy as np\n",
    "a = np.empty([2, 5, 3])\n",
    "print(a)"
   ]
  },
  {
   "cell_type": "code",
   "execution_count": null,
   "id": "136045bf-f693-4c18-9b5f-7b5c666f1ead",
   "metadata": {},
   "outputs": [],
   "source": [
    "In the context of the NumPy empty function, the parameters [2, 5, 3] specify the shape of the array to be created. \n",
    "Here's what each of these dimensions represents:\n",
    "\n",
    "2 is the number of matrices (or 2D arrays) in the array.\n",
    "5 is the number of rows in each matrix.\n",
    "3 is the number of columns in each matrix.\n",
    "Thus, the resulting array has the shape (2, 5, 3) which can be visualized as:\n",
    "\n",
    "Two 2D arrays (or matrices),\n",
    "Each 2D array has five rows,\n",
    "Each row has three columns."
   ]
  },
  {
   "cell_type": "markdown",
   "id": "f821fdbd-78e9-45e1-a4e1-5f7296ffc199",
   "metadata": {},
   "source": [
    "### np.arange()"
   ]
  },
  {
   "cell_type": "markdown",
   "id": "cab6207e-ec12-464f-b831-482faebe8186",
   "metadata": {},
   "source": [
    "\n",
    "The np.arange() function in NumPy is used to generate an array with evenly spaced values within a given interval.\n",
    "\n",
    "Syntax -\n",
    "\n",
    "np.arange(start,stop,step)\n",
    "\n",
    "start & step -> optional\n",
    "\n",
    "stop - required\n",
    "\n",
    "If start is not specified, its default value is 0\n",
    "\n",
    "If step is not provided, its default value is 1"
   ]
  },
  {
   "cell_type": "code",
   "execution_count": 1,
   "id": "b6b75d91-2289-4ebd-a648-d5ef708b838b",
   "metadata": {},
   "outputs": [
    {
     "data": {
      "text/plain": [
       "array([0, 1, 2, 3, 4, 5, 6, 7, 8, 9])"
      ]
     },
     "execution_count": 1,
     "metadata": {},
     "output_type": "execute_result"
    }
   ],
   "source": [
    "#Create an array from 0 to 9\n",
    "import numpy as np\n",
    "np.arange(10)\n",
    "\n",
    "#If only one argument is provided, it is considered as stop with start defaulting to 0"
   ]
  },
  {
   "cell_type": "code",
   "execution_count": 2,
   "id": "1fd29892-dc2e-4dab-a757-6435bb069965",
   "metadata": {},
   "outputs": [
    {
     "name": "stdout",
     "output_type": "stream",
     "text": [
      "[1 2 3 4 5 6 7 8 9]\n"
     ]
    }
   ],
   "source": [
    "# Create an array from 3 to 9\n",
    "import numpy as np\n",
    "arr = np.arange(1,10)\n",
    "print(arr)\n",
    "\n",
    "# creates a NumPy array containing a sequence of numbers starting from 1 up to, but not including, 10."
   ]
  },
  {
   "cell_type": "code",
   "execution_count": 5,
   "id": "06bf21e7-3743-4959-9658-fbf18a325bc6",
   "metadata": {},
   "outputs": [
    {
     "name": "stdout",
     "output_type": "stream",
     "text": [
      "[1 3 5 7 9]\n"
     ]
    }
   ],
   "source": [
    "# Create an array from 1 to 9 with a step of 2\n",
    "import numpy as np\n",
    "arr = np.arange(1,10,2)\n",
    "print(arr)"
   ]
  },
  {
   "cell_type": "code",
   "execution_count": 6,
   "id": "04bddeb2-d5e8-48fd-b959-32c281a1c671",
   "metadata": {},
   "outputs": [
    {
     "name": "stdout",
     "output_type": "stream",
     "text": [
      "[0.  0.2 0.4 0.6 0.8]\n"
     ]
    }
   ],
   "source": [
    "import numpy as np\n",
    "arr = np.arange(0,1,0.2)\n",
    "print(arr)"
   ]
  },
  {
   "cell_type": "code",
   "execution_count": 7,
   "id": "130ef600-11ae-4e12-b742-3d3eccc416da",
   "metadata": {},
   "outputs": [
    {
     "name": "stdout",
     "output_type": "stream",
     "text": [
      "[0. 1. 2. 3. 4. 5. 6. 7. 8. 9.]\n"
     ]
    }
   ],
   "source": [
    "#Create an array from 0 to 9 with data type as float\n",
    "import numpy as np\n",
    "arr = np.arange(10, dtype=float)\n",
    "print(arr)"
   ]
  },
  {
   "cell_type": "markdown",
   "id": "86b12ec2-01c2-4562-8239-46b90362c971",
   "metadata": {},
   "source": [
    "### np.linspace()"
   ]
  },
  {
   "cell_type": "markdown",
   "id": "b1401a9f-bb3b-480b-9c5c-eae37e54f120",
   "metadata": {},
   "source": [
    "np.linspace(start,stop,num)\n",
    "\n",
    "start: The starting value of the sequence.\n",
    "\n",
    "stop: The end value of the sequence.\n",
    "\n",
    "num: The number of evenly spaced values to generate. The default is 50. \n",
    "\n",
    "The np.linspace() function in NumPy create evenly spaced arrays with a specified number of elements."
   ]
  },
  {
   "cell_type": "code",
   "execution_count": 2,
   "id": "df56040e-879d-43ef-b791-22e536cc5512",
   "metadata": {},
   "outputs": [
    {
     "name": "stdout",
     "output_type": "stream",
     "text": [
      "[ 1.    3.25  5.5   7.75 10.  ]\n"
     ]
    }
   ],
   "source": [
    "import numpy as np\n",
    "arr = np.linspace(1,10,num=5)\n",
    "print(arr)"
   ]
  },
  {
   "cell_type": "code",
   "execution_count": 4,
   "id": "6695965d-8e5c-4940-b01a-0aad03a1277b",
   "metadata": {},
   "outputs": [
    {
     "name": "stdout",
     "output_type": "stream",
     "text": [
      "[1. 3. 5.]\n"
     ]
    }
   ],
   "source": [
    "arr = np.linspace(1,5,num=3)\n",
    "print(arr)"
   ]
  },
  {
   "cell_type": "markdown",
   "id": "5779bd3b-fbec-414e-9e8a-3e9db2e6b422",
   "metadata": {},
   "source": [
    "### np.eye()"
   ]
  },
  {
   "cell_type": "markdown",
   "id": "5cdf1671-d904-4a7b-ad4b-a10f29c9d439",
   "metadata": {},
   "source": [
    "np.eye(n,m,k)\n",
    "\n",
    "n --> rows ( compulsory argument )\n",
    "\n",
    "m --> columns \n",
    "\n",
    "k --> diagonal \n",
    "\n",
    "Returns a 2-D array , where all the diagonal elements are one & zero elsewhere\n",
    "\n",
    "By default , \n",
    "m = n \n",
    "\n",
    "k = 0"
   ]
  },
  {
   "cell_type": "code",
   "execution_count": 1,
   "id": "4144427c-4928-4fce-83cb-cc987e579d78",
   "metadata": {},
   "outputs": [
    {
     "name": "stdout",
     "output_type": "stream",
     "text": [
      "[[1. 0. 0.]\n",
      " [0. 1. 0.]\n",
      " [0. 0. 1.]]\n"
     ]
    }
   ],
   "source": [
    "import numpy as np\n",
    "arr = np.eye(3)\n",
    "print(arr)"
   ]
  },
  {
   "cell_type": "code",
   "execution_count": 2,
   "id": "8e612e07-6025-48f5-bafc-caa9c6daafa9",
   "metadata": {},
   "outputs": [
    {
     "name": "stdout",
     "output_type": "stream",
     "text": [
      "[[1 0 0]\n",
      " [0 1 0]\n",
      " [0 0 1]]\n"
     ]
    }
   ],
   "source": [
    "import numpy as np\n",
    "arr = np.eye(3,dtype=int)\n",
    "print(arr)\n",
    "\n",
    "#If we don't pass anything for m, m value will be same as n"
   ]
  },
  {
   "cell_type": "code",
   "execution_count": 3,
   "id": "94f6923e-5785-4d1d-8251-01b0902c2919",
   "metadata": {},
   "outputs": [
    {
     "name": "stdout",
     "output_type": "stream",
     "text": [
      "[[1 0 0 0 0]\n",
      " [0 1 0 0 0]\n",
      " [0 0 1 0 0]]\n"
     ]
    }
   ],
   "source": [
    "import numpy as np\n",
    "arr = np.eye(3,5, dtype=\"int\")\n",
    "print(arr)"
   ]
  },
  {
   "cell_type": "code",
   "execution_count": 6,
   "id": "114fa67f-1ae0-42fd-8876-c01e86c9212d",
   "metadata": {},
   "outputs": [
    {
     "name": "stdout",
     "output_type": "stream",
     "text": [
      "[[0 1 0 0 0]\n",
      " [0 0 1 0 0]\n",
      " [0 0 0 1 0]]\n"
     ]
    }
   ],
   "source": [
    "import numpy as np\n",
    "arr = np.eye(3,5,k=1, dtype=\"int\")\n",
    "print(arr)\n",
    "\n",
    "#If we want to customise / change the diagonal, we do it using k"
   ]
  },
  {
   "cell_type": "markdown",
   "id": "5fea0111-af53-4b58-a151-18debf67fb2f",
   "metadata": {},
   "source": [
    "### np.identity()"
   ]
  },
  {
   "cell_type": "markdown",
   "id": "f70cde28-7260-4280-9acf-4a9b86e3d40d",
   "metadata": {},
   "source": [
    "\n",
    "Returns the identity array\n",
    "\n",
    "np.identity(n)\n",
    "\n",
    "n -> It represent both no of rows & no of cols\n",
    "\n",
    "Identity matrix :\n",
    "All the diagonal elements are 1, remaining all the elements are 0."
   ]
  },
  {
   "cell_type": "code",
   "execution_count": null,
   "id": "ad84b2eb-fe8d-4580-a7a8-8207d484c9ba",
   "metadata": {},
   "outputs": [],
   "source": [
    "It is exactly same as eye() function, the difference here is, number of rows & no of columns must be same.\n",
    "You can't customise the diagonal"
   ]
  },
  {
   "cell_type": "code",
   "execution_count": 7,
   "id": "cb466d3b-205e-4153-9a87-4f0a58080b7c",
   "metadata": {},
   "outputs": [
    {
     "name": "stdout",
     "output_type": "stream",
     "text": [
      "[[1. 0. 0.]\n",
      " [0. 1. 0.]\n",
      " [0. 0. 1.]]\n"
     ]
    }
   ],
   "source": [
    "import numpy as np\n",
    "arr = np.identity(3)\n",
    "print(arr)"
   ]
  },
  {
   "cell_type": "code",
   "execution_count": 8,
   "id": "4436a140-1f5b-48ef-afc6-f91dc6a08b17",
   "metadata": {},
   "outputs": [
    {
     "name": "stdout",
     "output_type": "stream",
     "text": [
      "[[1 0 0]\n",
      " [0 1 0]\n",
      " [0 0 1]]\n"
     ]
    }
   ],
   "source": [
    "import numpy as np\n",
    "arr = np.identity(3, dtype=int)\n",
    "print(arr)"
   ]
  },
  {
   "cell_type": "markdown",
   "id": "5b1254da-a06d-456b-b91a-053fbbda187c",
   "metadata": {},
   "source": [
    "### np.random.rand()"
   ]
  },
  {
   "cell_type": "markdown",
   "id": "5d17f1e3-2a0e-4a7f-bfba-731554784978",
   "metadata": {},
   "source": [
    "Generates an array of random values\n",
    "\n",
    "Values range from 0 to 1\n",
    "\n",
    "np.random.rand()\n",
    "\n",
    "By default - It will give one random value\n",
    "\n",
    "np.random.rand(n)\n",
    "\n",
    "n - If we specify n, It will give an array of n values ranging from 0 to 1"
   ]
  },
  {
   "cell_type": "code",
   "execution_count": 10,
   "id": "439f6633-0e2b-42fe-a54a-2333abe83ee2",
   "metadata": {},
   "outputs": [
    {
     "name": "stdout",
     "output_type": "stream",
     "text": [
      "[0.97255475 0.31070961 0.0339983 ]\n"
     ]
    }
   ],
   "source": [
    "import numpy as np\n",
    "arr = np.random.rand(3)\n",
    "print(arr)"
   ]
  },
  {
   "cell_type": "markdown",
   "id": "d7f79910-0b14-427c-ada2-a1609ff38916",
   "metadata": {},
   "source": [
    "### np.random.randint()"
   ]
  },
  {
   "cell_type": "markdown",
   "id": "879cc269-14fd-4e2a-85d5-5b3fc7204020",
   "metadata": {},
   "source": [
    "It will generate random integer value within the range a to b, where a must be less than or equal to b\n",
    "( Both boundary values will be included )"
   ]
  },
  {
   "cell_type": "code",
   "execution_count": 21,
   "id": "5918ca95-31a8-4715-b3f3-9e71c276e008",
   "metadata": {},
   "outputs": [
    {
     "name": "stdout",
     "output_type": "stream",
     "text": [
      "7\n"
     ]
    }
   ],
   "source": [
    "import numpy as np\n",
    "arr = np.random.randint(5,8)\n",
    "print(arr)\n",
    "\n",
    "#It will generate random integer values between 5 & 8 (Both boundary values will be included)"
   ]
  },
  {
   "cell_type": "markdown",
   "id": "32a77f06-59c9-4f66-8bdd-e2a7c6495dbe",
   "metadata": {},
   "source": [
    "### np.shape()"
   ]
  },
  {
   "cell_type": "markdown",
   "id": "db48c5cc-d6d6-4e2f-8f88-726600f31ad9",
   "metadata": {},
   "source": [
    "It gives a tuple of array dimension\n",
    "\n",
    "We use shape to get array dimension"
   ]
  },
  {
   "cell_type": "markdown",
   "id": "ec65c2e1-7470-48ca-96de-7cd247b29535",
   "metadata": {},
   "source": [
    "### np.reshape()"
   ]
  },
  {
   "cell_type": "markdown",
   "id": "2b244d10-af80-42c0-acaa-44483f5ac1e7",
   "metadata": {},
   "source": [
    "It gives a new shape to an array without changing its data\n",
    "\n",
    "It creates a new array & doesn't modify the original array itself"
   ]
  }
 ],
 "metadata": {
  "kernelspec": {
   "display_name": "Python 3 (ipykernel)",
   "language": "python",
   "name": "python3"
  },
  "language_info": {
   "codemirror_mode": {
    "name": "ipython",
    "version": 3
   },
   "file_extension": ".py",
   "mimetype": "text/x-python",
   "name": "python",
   "nbconvert_exporter": "python",
   "pygments_lexer": "ipython3",
   "version": "3.11.7"
  }
 },
 "nbformat": 4,
 "nbformat_minor": 5
}
