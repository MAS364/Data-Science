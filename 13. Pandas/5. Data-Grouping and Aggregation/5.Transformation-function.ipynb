{
 "cells": [
  {
   "cell_type": "markdown",
   "id": "ea1810d4-1237-45f9-944c-2ff9e1f34d89",
   "metadata": {},
   "source": [
    "### Transformation function"
   ]
  },
  {
   "cell_type": "code",
   "execution_count": 34,
   "id": "9515a8c3-e6fa-4581-b41d-1469e66790d4",
   "metadata": {},
   "outputs": [],
   "source": [
    "import pandas as pd\n",
    "import numpy as np\n",
    "df = pd.read_csv(\"/Users/mohammadasim/Desktop/Python/14. Pandas/5. Data-Grouping and Aggregation/orders.csv\")"
   ]
  },
  {
   "cell_type": "code",
   "execution_count": 35,
   "id": "0963529d-0475-430d-ab49-08cd2900142f",
   "metadata": {},
   "outputs": [
    {
     "data": {
      "text/html": [
       "<div>\n",
       "<style scoped>\n",
       "    .dataframe tbody tr th:only-of-type {\n",
       "        vertical-align: middle;\n",
       "    }\n",
       "\n",
       "    .dataframe tbody tr th {\n",
       "        vertical-align: top;\n",
       "    }\n",
       "\n",
       "    .dataframe thead th {\n",
       "        text-align: right;\n",
       "    }\n",
       "</style>\n",
       "<table border=\"1\" class=\"dataframe\">\n",
       "  <thead>\n",
       "    <tr style=\"text-align: right;\">\n",
       "      <th></th>\n",
       "      <th>order_id</th>\n",
       "      <th>product_name</th>\n",
       "      <th>category</th>\n",
       "      <th>city</th>\n",
       "      <th>sales</th>\n",
       "      <th>profit</th>\n",
       "    </tr>\n",
       "  </thead>\n",
       "  <tbody>\n",
       "    <tr>\n",
       "      <th>0</th>\n",
       "      <td>CA-2020-152156</td>\n",
       "      <td>p1</td>\n",
       "      <td>Furniture</td>\n",
       "      <td>Bangalore</td>\n",
       "      <td>10000</td>\n",
       "      <td>500</td>\n",
       "    </tr>\n",
       "    <tr>\n",
       "      <th>1</th>\n",
       "      <td>CA-2020-138688</td>\n",
       "      <td>p2</td>\n",
       "      <td>Furniture</td>\n",
       "      <td>Bangalore</td>\n",
       "      <td>20000</td>\n",
       "      <td>400</td>\n",
       "    </tr>\n",
       "    <tr>\n",
       "      <th>2</th>\n",
       "      <td>US-2019-108966</td>\n",
       "      <td>p3</td>\n",
       "      <td>Technology</td>\n",
       "      <td>Chennai</td>\n",
       "      <td>25000</td>\n",
       "      <td>200</td>\n",
       "    </tr>\n",
       "    <tr>\n",
       "      <th>3</th>\n",
       "      <td>CA-2021-114412</td>\n",
       "      <td>p4</td>\n",
       "      <td>Office Supplies</td>\n",
       "      <td>Chennai</td>\n",
       "      <td>30000</td>\n",
       "      <td>250</td>\n",
       "    </tr>\n",
       "    <tr>\n",
       "      <th>4</th>\n",
       "      <td>CA-2020-161389</td>\n",
       "      <td>p5</td>\n",
       "      <td>Technology</td>\n",
       "      <td>Bangalore</td>\n",
       "      <td>35000</td>\n",
       "      <td>800</td>\n",
       "    </tr>\n",
       "    <tr>\n",
       "      <th>5</th>\n",
       "      <td>US-2019-119883</td>\n",
       "      <td>p6</td>\n",
       "      <td>Office Supplies</td>\n",
       "      <td>Bangalore</td>\n",
       "      <td>40000</td>\n",
       "      <td>700</td>\n",
       "    </tr>\n",
       "  </tbody>\n",
       "</table>\n",
       "</div>"
      ],
      "text/plain": [
       "         order_id product_name         category       city  sales  profit\n",
       "0  CA-2020-152156           p1        Furniture  Bangalore  10000     500\n",
       "1  CA-2020-138688           p2        Furniture  Bangalore  20000     400\n",
       "2  US-2019-108966           p3       Technology    Chennai  25000     200\n",
       "3  CA-2021-114412           p4  Office Supplies    Chennai  30000     250\n",
       "4  CA-2020-161389           p5       Technology  Bangalore  35000     800\n",
       "5  US-2019-119883           p6  Office Supplies  Bangalore  40000     700"
      ]
     },
     "execution_count": 35,
     "metadata": {},
     "output_type": "execute_result"
    }
   ],
   "source": [
    "df"
   ]
  },
  {
   "cell_type": "code",
   "execution_count": 36,
   "id": "665e6b6c-9639-47bf-9475-7be4a424173d",
   "metadata": {},
   "outputs": [],
   "source": [
    "grouped = df.groupby('category')"
   ]
  },
  {
   "cell_type": "code",
   "execution_count": 37,
   "id": "65fde34f-64c9-4f14-9c6b-8f885e4b754f",
   "metadata": {},
   "outputs": [
    {
     "name": "stdout",
     "output_type": "stream",
     "text": [
      "Furniture\n",
      "         order_id product_name   category       city  sales  profit\n",
      "0  CA-2020-152156           p1  Furniture  Bangalore  10000     500\n",
      "1  CA-2020-138688           p2  Furniture  Bangalore  20000     400\n",
      "Office Supplies\n",
      "         order_id product_name         category       city  sales  profit\n",
      "3  CA-2021-114412           p4  Office Supplies    Chennai  30000     250\n",
      "5  US-2019-119883           p6  Office Supplies  Bangalore  40000     700\n",
      "Technology\n",
      "         order_id product_name    category       city  sales  profit\n",
      "2  US-2019-108966           p3  Technology    Chennai  25000     200\n",
      "4  CA-2020-161389           p5  Technology  Bangalore  35000     800\n"
     ]
    }
   ],
   "source": [
    "for x,y in grouped:\n",
    "    print(x)\n",
    "    print(y)"
   ]
  },
  {
   "cell_type": "code",
   "execution_count": 38,
   "id": "33711825-591c-4acc-a7dc-f69f636ee814",
   "metadata": {},
   "outputs": [
    {
     "data": {
      "text/plain": [
       "0    15000.0\n",
       "1    15000.0\n",
       "2    30000.0\n",
       "3    35000.0\n",
       "4    30000.0\n",
       "5    35000.0\n",
       "Name: sales, dtype: float64"
      ]
     },
     "execution_count": 38,
     "metadata": {},
     "output_type": "execute_result"
    }
   ],
   "source": [
    "df.groupby('category').sales.transform('mean')"
   ]
  },
  {
   "cell_type": "markdown",
   "id": "f234762d-00bb-45f2-80b2-4d68fc2ad0d2",
   "metadata": {},
   "source": [
    "### Example 2"
   ]
  },
  {
   "cell_type": "code",
   "execution_count": 39,
   "id": "ebfe06fb-ecf2-4439-be57-e93d8212c4e6",
   "metadata": {},
   "outputs": [],
   "source": [
    "import pandas as pd"
   ]
  },
  {
   "cell_type": "code",
   "execution_count": 40,
   "id": "8bcf2b39-039e-4a2a-a3ce-4ff1787a3b38",
   "metadata": {},
   "outputs": [
    {
     "data": {
      "text/html": [
       "<div>\n",
       "<style scoped>\n",
       "    .dataframe tbody tr th:only-of-type {\n",
       "        vertical-align: middle;\n",
       "    }\n",
       "\n",
       "    .dataframe tbody tr th {\n",
       "        vertical-align: top;\n",
       "    }\n",
       "\n",
       "    .dataframe thead th {\n",
       "        text-align: right;\n",
       "    }\n",
       "</style>\n",
       "<table border=\"1\" class=\"dataframe\">\n",
       "  <thead>\n",
       "    <tr style=\"text-align: right;\">\n",
       "      <th></th>\n",
       "      <th>team</th>\n",
       "      <th>points</th>\n",
       "    </tr>\n",
       "  </thead>\n",
       "  <tbody>\n",
       "    <tr>\n",
       "      <th>0</th>\n",
       "      <td>A</td>\n",
       "      <td>30</td>\n",
       "    </tr>\n",
       "    <tr>\n",
       "      <th>1</th>\n",
       "      <td>A</td>\n",
       "      <td>22</td>\n",
       "    </tr>\n",
       "    <tr>\n",
       "      <th>2</th>\n",
       "      <td>A</td>\n",
       "      <td>19</td>\n",
       "    </tr>\n",
       "    <tr>\n",
       "      <th>3</th>\n",
       "      <td>A</td>\n",
       "      <td>14</td>\n",
       "    </tr>\n",
       "    <tr>\n",
       "      <th>4</th>\n",
       "      <td>B</td>\n",
       "      <td>14</td>\n",
       "    </tr>\n",
       "    <tr>\n",
       "      <th>5</th>\n",
       "      <td>B</td>\n",
       "      <td>11</td>\n",
       "    </tr>\n",
       "    <tr>\n",
       "      <th>6</th>\n",
       "      <td>B</td>\n",
       "      <td>20</td>\n",
       "    </tr>\n",
       "    <tr>\n",
       "      <th>7</th>\n",
       "      <td>B</td>\n",
       "      <td>28</td>\n",
       "    </tr>\n",
       "  </tbody>\n",
       "</table>\n",
       "</div>"
      ],
      "text/plain": [
       "  team  points\n",
       "0    A      30\n",
       "1    A      22\n",
       "2    A      19\n",
       "3    A      14\n",
       "4    B      14\n",
       "5    B      11\n",
       "6    B      20\n",
       "7    B      28"
      ]
     },
     "execution_count": 40,
     "metadata": {},
     "output_type": "execute_result"
    }
   ],
   "source": [
    "df = pd.DataFrame({\n",
    "    'team': ['A', 'A', 'A', 'A', 'B', 'B', 'B', 'B'],\n",
    "    'points': [30, 22, 19, 14, 14, 11, 20, 28]\n",
    "  })\n",
    "df"
   ]
  },
  {
   "cell_type": "code",
   "execution_count": 41,
   "id": "79068be2-0465-4fb2-ab76-693a0f187c1b",
   "metadata": {},
   "outputs": [
    {
     "data": {
      "text/plain": [
       "<pandas.core.groupby.generic.DataFrameGroupBy object at 0x14414ca10>"
      ]
     },
     "execution_count": 41,
     "metadata": {},
     "output_type": "execute_result"
    }
   ],
   "source": [
    "df.groupby('team')"
   ]
  },
  {
   "cell_type": "code",
   "execution_count": 42,
   "id": "740e67a3-e378-4966-b6a5-5daf17d674c3",
   "metadata": {},
   "outputs": [
    {
     "name": "stdout",
     "output_type": "stream",
     "text": [
      "A\n",
      "  team  points\n",
      "0    A      30\n",
      "1    A      22\n",
      "2    A      19\n",
      "3    A      14\n",
      "B\n",
      "  team  points\n",
      "4    B      14\n",
      "5    B      11\n",
      "6    B      20\n",
      "7    B      28\n"
     ]
    }
   ],
   "source": [
    "for x,y in df.groupby('team'):\n",
    "    print(x)\n",
    "    print(y)"
   ]
  },
  {
   "cell_type": "code",
   "execution_count": 43,
   "id": "4413ff23-2781-4ada-b7d1-528c0346ced5",
   "metadata": {},
   "outputs": [
    {
     "data": {
      "text/plain": [
       "0    21.25\n",
       "1    21.25\n",
       "2    21.25\n",
       "3    21.25\n",
       "4    18.25\n",
       "5    18.25\n",
       "6    18.25\n",
       "7    18.25\n",
       "Name: points, dtype: float64"
      ]
     },
     "execution_count": 43,
     "metadata": {},
     "output_type": "execute_result"
    }
   ],
   "source": [
    "df.groupby('team')['points'].transform('mean')"
   ]
  }
 ],
 "metadata": {
  "kernelspec": {
   "display_name": "Python 3 (ipykernel)",
   "language": "python",
   "name": "python3"
  },
  "language_info": {
   "codemirror_mode": {
    "name": "ipython",
    "version": 3
   },
   "file_extension": ".py",
   "mimetype": "text/x-python",
   "name": "python",
   "nbconvert_exporter": "python",
   "pygments_lexer": "ipython3",
   "version": "3.11.7"
  }
 },
 "nbformat": 4,
 "nbformat_minor": 5
}
