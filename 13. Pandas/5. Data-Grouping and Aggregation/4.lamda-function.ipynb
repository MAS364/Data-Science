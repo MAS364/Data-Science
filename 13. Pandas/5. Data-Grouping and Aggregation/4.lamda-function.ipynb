{
 "cells": [
  {
   "cell_type": "markdown",
   "id": "ba5c40cc-62f3-45be-9fec-3e4a003934d3",
   "metadata": {},
   "source": [
    "### Lambda"
   ]
  },
  {
   "cell_type": "markdown",
   "id": "f8a5ab40-b5c8-4386-9b0d-2b88f66e06cf",
   "metadata": {},
   "source": [
    "- Lambda function is a small anonymous function without a name. It is defined using a lamda keyword\n",
    "- lambda argument : expression\n",
    "- It is often used in a situation where a small function is required for a short period of time.\n",
    "- They are commonly used as argument to higher order function such as map, filter and reduce"
   ]
  },
  {
   "cell_type": "code",
   "execution_count": 8,
   "id": "eafed682-4d28-481e-b659-6b44eafa3270",
   "metadata": {},
   "outputs": [
    {
     "name": "stdout",
     "output_type": "stream",
     "text": [
      "10\n"
     ]
    }
   ],
   "source": [
    "def double(x):\n",
    "    return x*2\n",
    "\n",
    "print(double(5))"
   ]
  },
  {
   "cell_type": "code",
   "execution_count": 9,
   "id": "393816ae-b896-44d6-a33c-5635d85a540f",
   "metadata": {},
   "outputs": [
    {
     "name": "stdout",
     "output_type": "stream",
     "text": [
      "10\n"
     ]
    }
   ],
   "source": [
    "double = lambda x : x*2\n",
    "print(double(5))"
   ]
  },
  {
   "cell_type": "code",
   "execution_count": 10,
   "id": "bb7e685d-0a1d-4548-862a-063486b641ad",
   "metadata": {},
   "outputs": [
    {
     "name": "stdout",
     "output_type": "stream",
     "text": [
      "125\n"
     ]
    }
   ],
   "source": [
    "cube = lambda x : x*x*x\n",
    "print(cube(5))"
   ]
  }
 ],
 "metadata": {
  "kernelspec": {
   "display_name": "Python 3 (ipykernel)",
   "language": "python",
   "name": "python3"
  },
  "language_info": {
   "codemirror_mode": {
    "name": "ipython",
    "version": 3
   },
   "file_extension": ".py",
   "mimetype": "text/x-python",
   "name": "python",
   "nbconvert_exporter": "python",
   "pygments_lexer": "ipython3",
   "version": "3.11.7"
  }
 },
 "nbformat": 4,
 "nbformat_minor": 5
}
