{
 "cells": [
  {
   "cell_type": "code",
   "execution_count": 1,
   "id": "6671f3ad-3ada-4bfa-93db-b5caa6052907",
   "metadata": {},
   "outputs": [],
   "source": [
    "import numpy as np\n",
    "import pandas as pd"
   ]
  },
  {
   "cell_type": "code",
   "execution_count": 10,
   "id": "94efa46b-a0a5-4235-8b69-d32c711edac0",
   "metadata": {},
   "outputs": [
    {
     "data": {
      "text/html": [
       "<div>\n",
       "<style scoped>\n",
       "    .dataframe tbody tr th:only-of-type {\n",
       "        vertical-align: middle;\n",
       "    }\n",
       "\n",
       "    .dataframe tbody tr th {\n",
       "        vertical-align: top;\n",
       "    }\n",
       "\n",
       "    .dataframe thead th {\n",
       "        text-align: right;\n",
       "    }\n",
       "</style>\n",
       "<table border=\"1\" class=\"dataframe\">\n",
       "  <thead>\n",
       "    <tr style=\"text-align: right;\">\n",
       "      <th></th>\n",
       "      <th>Power_level</th>\n",
       "      <th>Uniform_Color</th>\n",
       "      <th>Specifies</th>\n",
       "    </tr>\n",
       "  </thead>\n",
       "  <tbody>\n",
       "    <tr>\n",
       "      <th>Goku</th>\n",
       "      <td>12000</td>\n",
       "      <td>Orange</td>\n",
       "      <td>Saiyan</td>\n",
       "    </tr>\n",
       "    <tr>\n",
       "      <th>Gohan</th>\n",
       "      <td>13000</td>\n",
       "      <td>Yellow</td>\n",
       "      <td>Saiyan</td>\n",
       "    </tr>\n",
       "    <tr>\n",
       "      <th>Vegeta</th>\n",
       "      <td>5000</td>\n",
       "      <td>Blue</td>\n",
       "      <td>Saiyan</td>\n",
       "    </tr>\n",
       "    <tr>\n",
       "      <th>Trunks</th>\n",
       "      <td>2000</td>\n",
       "      <td>Green</td>\n",
       "      <td>Saiyan</td>\n",
       "    </tr>\n",
       "    <tr>\n",
       "      <th>Gojeta</th>\n",
       "      <td>4000</td>\n",
       "      <td>Blue</td>\n",
       "      <td>Saiyan</td>\n",
       "    </tr>\n",
       "    <tr>\n",
       "      <th>Goku3</th>\n",
       "      <td>6000</td>\n",
       "      <td>Magenta</td>\n",
       "      <td>Saiyan</td>\n",
       "    </tr>\n",
       "    <tr>\n",
       "      <th>Piccolo1</th>\n",
       "      <td>18000</td>\n",
       "      <td>Orange</td>\n",
       "      <td>Namek</td>\n",
       "    </tr>\n",
       "    <tr>\n",
       "      <th>Piccolo2</th>\n",
       "      <td>2000</td>\n",
       "      <td>Yellow</td>\n",
       "      <td>Namek</td>\n",
       "    </tr>\n",
       "    <tr>\n",
       "      <th>Piccolo3</th>\n",
       "      <td>2000</td>\n",
       "      <td>Green</td>\n",
       "      <td>Namek</td>\n",
       "    </tr>\n",
       "    <tr>\n",
       "      <th>Piccolo4</th>\n",
       "      <td>50000</td>\n",
       "      <td>Orange</td>\n",
       "      <td>Namek</td>\n",
       "    </tr>\n",
       "  </tbody>\n",
       "</table>\n",
       "</div>"
      ],
      "text/plain": [
       "          Power_level Uniform_Color Specifies\n",
       "Goku            12000        Orange    Saiyan\n",
       "Gohan           13000        Yellow    Saiyan\n",
       "Vegeta           5000          Blue    Saiyan\n",
       "Trunks           2000         Green    Saiyan\n",
       "Gojeta           4000          Blue    Saiyan\n",
       "Goku3            6000       Magenta    Saiyan\n",
       "Piccolo1        18000        Orange     Namek\n",
       "Piccolo2         2000        Yellow     Namek\n",
       "Piccolo3         2000         Green     Namek\n",
       "Piccolo4        50000        Orange     Namek"
      ]
     },
     "execution_count": 10,
     "metadata": {},
     "output_type": "execute_result"
    }
   ],
   "source": [
    "data = {\n",
    "    \"Power_level\" : [12000,13000,5000,2000,4000,6000,18000,2000,2000,50000],\n",
    "    \"Uniform_Color\" : [\"Orange\",\"Yellow\",\"Blue\",\"Green\",\"Blue\",\"Magenta\",\"Orange\",\"Yellow\",\"Green\",\"Orange\"],\n",
    "    \"Specifies\" : [\"Saiyan\",\"Saiyan\",\"Saiyan\",\"Saiyan\",\"Saiyan\",\"Saiyan\",\"Namek\",\"Namek\",\"Namek\",\"Namek\"],\n",
    "}\n",
    "\n",
    "data = pd.DataFrame(data,  index = [\"Goku\",\"Gohan\",\"Vegeta\",\"Trunks\",\"Gojeta\",\"Goku3\",\"Piccolo1\",\"Piccolo2\",\"Piccolo3\",\"Piccolo4\"])\n",
    "data"
   ]
  },
  {
   "cell_type": "code",
   "execution_count": 12,
   "id": "f1a09cd2-9175-46c6-87fa-ac6bca895a37",
   "metadata": {},
   "outputs": [],
   "source": [
    "def my_function(x,h,l):\n",
    "    if x > h:\n",
    "        return(\"high\")\n",
    "    if x > l:\n",
    "        return(\"med\")\n",
    "    return(\"low\")"
   ]
  },
  {
   "cell_type": "code",
   "execution_count": 14,
   "id": "9989ef4f-b00d-4032-9990-8599651e8583",
   "metadata": {},
   "outputs": [
    {
     "data": {
      "text/plain": [
       "Goku        high\n",
       "Gohan       high\n",
       "Vegeta       med\n",
       "Trunks       med\n",
       "Gojeta       med\n",
       "Goku3       high\n",
       "Piccolo1    high\n",
       "Piccolo2     med\n",
       "Piccolo3     med\n",
       "Piccolo4    high\n",
       "Name: Power_level, dtype: object"
      ]
     },
     "execution_count": 14,
     "metadata": {},
     "output_type": "execute_result"
    }
   ],
   "source": [
    "data[\"Power_level\"].apply(my_function, args=[5000,1000])"
   ]
  },
  {
   "cell_type": "code",
   "execution_count": 27,
   "id": "d939fd4a-64cc-4e46-88a2-23006e1ae7b1",
   "metadata": {},
   "outputs": [],
   "source": [
    "def my_color(x):\n",
    "    if x == \"Orange\" or x == \"Blue\":\n",
    "        return x\n",
    "    else:\n",
    "        return \"Color not recognized\"\n"
   ]
  },
  {
   "cell_type": "code",
   "execution_count": 28,
   "id": "0c7df644-5aac-429e-9343-6abbaedde521",
   "metadata": {},
   "outputs": [
    {
     "data": {
      "text/html": [
       "<div>\n",
       "<style scoped>\n",
       "    .dataframe tbody tr th:only-of-type {\n",
       "        vertical-align: middle;\n",
       "    }\n",
       "\n",
       "    .dataframe tbody tr th {\n",
       "        vertical-align: top;\n",
       "    }\n",
       "\n",
       "    .dataframe thead th {\n",
       "        text-align: right;\n",
       "    }\n",
       "</style>\n",
       "<table border=\"1\" class=\"dataframe\">\n",
       "  <thead>\n",
       "    <tr style=\"text-align: right;\">\n",
       "      <th></th>\n",
       "      <th>Uniform_Color</th>\n",
       "    </tr>\n",
       "  </thead>\n",
       "  <tbody>\n",
       "    <tr>\n",
       "      <th>Goku</th>\n",
       "      <td>Orange</td>\n",
       "    </tr>\n",
       "    <tr>\n",
       "      <th>Gohan</th>\n",
       "      <td>Color not recognized</td>\n",
       "    </tr>\n",
       "    <tr>\n",
       "      <th>Vegeta</th>\n",
       "      <td>Blue</td>\n",
       "    </tr>\n",
       "    <tr>\n",
       "      <th>Trunks</th>\n",
       "      <td>Color not recognized</td>\n",
       "    </tr>\n",
       "    <tr>\n",
       "      <th>Gojeta</th>\n",
       "      <td>Blue</td>\n",
       "    </tr>\n",
       "    <tr>\n",
       "      <th>Goku3</th>\n",
       "      <td>Color not recognized</td>\n",
       "    </tr>\n",
       "    <tr>\n",
       "      <th>Piccolo1</th>\n",
       "      <td>Orange</td>\n",
       "    </tr>\n",
       "    <tr>\n",
       "      <th>Piccolo2</th>\n",
       "      <td>Color not recognized</td>\n",
       "    </tr>\n",
       "    <tr>\n",
       "      <th>Piccolo3</th>\n",
       "      <td>Color not recognized</td>\n",
       "    </tr>\n",
       "    <tr>\n",
       "      <th>Piccolo4</th>\n",
       "      <td>Orange</td>\n",
       "    </tr>\n",
       "  </tbody>\n",
       "</table>\n",
       "</div>"
      ],
      "text/plain": [
       "                 Uniform_Color\n",
       "Goku                    Orange\n",
       "Gohan     Color not recognized\n",
       "Vegeta                    Blue\n",
       "Trunks    Color not recognized\n",
       "Gojeta                    Blue\n",
       "Goku3     Color not recognized\n",
       "Piccolo1                Orange\n",
       "Piccolo2  Color not recognized\n",
       "Piccolo3  Color not recognized\n",
       "Piccolo4                Orange"
      ]
     },
     "execution_count": 28,
     "metadata": {},
     "output_type": "execute_result"
    }
   ],
   "source": [
    "pd.DataFrame(data[\"Uniform_Color\"].apply(my_color))"
   ]
  }
 ],
 "metadata": {
  "kernelspec": {
   "display_name": "Python 3 (ipykernel)",
   "language": "python",
   "name": "python3"
  },
  "language_info": {
   "codemirror_mode": {
    "name": "ipython",
    "version": 3
   },
   "file_extension": ".py",
   "mimetype": "text/x-python",
   "name": "python",
   "nbconvert_exporter": "python",
   "pygments_lexer": "ipython3",
   "version": "3.11.7"
  }
 },
 "nbformat": 4,
 "nbformat_minor": 5
}
