{
 "cells": [
  {
   "cell_type": "code",
   "execution_count": null,
   "id": "2787979e-a02f-4551-813a-460d6bb13655",
   "metadata": {},
   "outputs": [],
   "source": [
    "df.shape - #### No of rows and columns present in a Dataframe"
   ]
  },
  {
   "cell_type": "code",
   "execution_count": null,
   "id": "e9864655-85b3-478d-92cc-f7ab526cc675",
   "metadata": {},
   "outputs": [],
   "source": [
    "df.head() - #### To look top n rows"
   ]
  },
  {
   "cell_type": "code",
   "execution_count": null,
   "id": "eb5eea02-a47d-4c63-bfcd-a2fc8924e547",
   "metadata": {},
   "outputs": [],
   "source": [
    "df.tail() - #### To look bottom n rows"
   ]
  },
  {
   "cell_type": "code",
   "execution_count": null,
   "id": "6e89903a-6639-473a-9eae-8d9eb3993b56",
   "metadata": {},
   "outputs": [],
   "source": [
    "df.memory_usage(deep = True) - #### Memory consumption of each column"
   ]
  },
  {
   "cell_type": "code",
   "execution_count": null,
   "id": "223eded4-e1e7-46ab-8821-848b1c0fb7a3",
   "metadata": {},
   "outputs": [],
   "source": [
    "df.dtypes - #### To check only datatypes of each column"
   ]
  },
  {
   "cell_type": "code",
   "execution_count": null,
   "id": "4481e21a-105d-42f8-b432-3cce8efea652",
   "metadata": {},
   "outputs": [],
   "source": [
    "df[column-name].astype('int') - #### To convert to int datatype"
   ]
  }
 ],
 "metadata": {
  "kernelspec": {
   "display_name": "Python 3 (ipykernel)",
   "language": "python",
   "name": "python3"
  },
  "language_info": {
   "codemirror_mode": {
    "name": "ipython",
    "version": 3
   },
   "file_extension": ".py",
   "mimetype": "text/x-python",
   "name": "python",
   "nbconvert_exporter": "python",
   "pygments_lexer": "ipython3",
   "version": "3.11.7"
  }
 },
 "nbformat": 4,
 "nbformat_minor": 5
}
